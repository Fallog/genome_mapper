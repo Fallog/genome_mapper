{
    "cells": [
        {
            "cell_type": "markdown",
            "metadata": {},
            "source": [
                "# Genomics Algorithmics project\n",
                "\n",
                "## Development of a mapping solution over a reference genome for sequencing datas  \n",
                "\n",
                "### Nicolas Parisot & Sergio Peignier"
            ]
        },
        {
            "cell_type": "markdown",
            "metadata": {},
            "source": [
                "## Reading sequencing datas with *Biopython* package\n",
                "\n",
                "### Complete genome, chromosome by chromosome, of *Plasmodium falciparum*\n",
                "\n",
                "With *Biopython*, each of the 15 *Plasmodium falciparum* chromosomes is stored in a python list under the form of a string. The python list is named **chromosomes**. Mapping operations will be realised on these chromosomes."
            ]
        },
        {
            "cell_type": "code",
            "execution_count": 1,
            "metadata": {},
            "outputs": [],
            "source": [
                "from Bio import SeqIO\n",
                "from Chromosome import Chromosome\n",
                "from dc3 import dc3\n",
                "import bwt\n",
                "import tools"
            ]
        },
        {
            "cell_type": "code",
            "execution_count": 2,
            "metadata": {},
            "outputs": [],
            "source": [
                "chromosomes:list[Chromosome] = []\n",
                "chromosomes_inv:list[Chromosome] = []\n",
                "\n",
                "for i,record in enumerate(SeqIO.parse(\"SEQUENCES/P_fal_genome.fna\", format=\"fasta\")):\n",
                "    name = f\"P_fal_chromosome_{i+1}\"\n",
                "    chromo = Chromosome(name,record.seq,record.id)\n",
                "    chromosomes.append(chromo)\n",
                "    #now for inverse\n",
                "    name_inversed_comp = f\"P_fal_chromosome_-{i+1}\"\n",
                "    inversed_comp_seq = tools.inverse_sequence(record.seq)\n",
                "    chromo_inv = Chromosome(name_inversed_comp,inversed_comp_seq,record.id)\n",
                "    chromosomes_inv.append(chromo_inv)"
            ]
        },
        {
            "cell_type": "markdown",
            "metadata": {},
            "source": [
                "Number and lengths of the chromosomes are given here:"
            ]
        },
        {
            "cell_type": "code",
            "execution_count": 23,
            "metadata": {},
            "outputs": [
                {
                    "name": "stdout",
                    "output_type": "stream",
                    "text": [
                        "Chromosomes number: 15\n",
                        "Chromosomes length, from 1 to 15:\n",
                        "Length of the chromosome  1 : 640852  pairs of bases\n",
                        "Length of the chromosome  2 : 947103  pairs of bases\n",
                        "Length of the chromosome  3 : 1067972 pairs of bases\n",
                        "Length of the chromosome  4 : 1200491 pairs of bases\n",
                        "Length of the chromosome  5 : 1343558 pairs of bases\n",
                        "Length of the chromosome  6 : 1418243 pairs of bases\n",
                        "Length of the chromosome  7 : 1445208 pairs of bases\n",
                        "Length of the chromosome  8 : 1472806 pairs of bases\n",
                        "Length of the chromosome  9 : 1541736 pairs of bases\n",
                        "Length of the chromosome 10 : 1687657 pairs of bases\n",
                        "Length of the chromosome 11 : 2038341 pairs of bases\n",
                        "Length of the chromosome 12 : 2271495 pairs of bases\n",
                        "Length of the chromosome 13 : 2925237 pairs of bases\n",
                        "Length of the chromosome 14 : 3291937 pairs of bases\n",
                        "Length of the chromosome 15 : 34251   pairs of bases\n",
                        "Length of the chromosome - 1 : 640852  pairs of bases\n",
                        "Length of the chromosome - 2 : 947103  pairs of bases\n",
                        "Length of the chromosome - 3 : 1067972 pairs of bases\n",
                        "Length of the chromosome - 4 : 1200491 pairs of bases\n",
                        "Length of the chromosome - 5 : 1343558 pairs of bases\n",
                        "Length of the chromosome - 6 : 1418243 pairs of bases\n",
                        "Length of the chromosome - 7 : 1445208 pairs of bases\n",
                        "Length of the chromosome - 8 : 1472806 pairs of bases\n",
                        "Length of the chromosome - 9 : 1541736 pairs of bases\n",
                        "Length of the chromosome -10 : 1687657 pairs of bases\n",
                        "Length of the chromosome -11 : 2038341 pairs of bases\n",
                        "Length of the chromosome -12 : 2271495 pairs of bases\n",
                        "Length of the chromosome -13 : 2925237 pairs of bases\n",
                        "Length of the chromosome -14 : 3291937 pairs of bases\n",
                        "Length of the chromosome -15 : 34251   pairs of bases\n"
                    ]
                }
            ],
            "source": [
                "print(f\"Chromosomes number: {len(chromosomes)}\")\n",
                "print(\"Chromosomes length, from 1 to 15:\")\n",
                "for i, chromo in enumerate(chromosomes):\n",
                "    i += 1\n",
                "    print(f\"Length of the chromosome {i:>2} : {len(chromo.DNA_dol):<7} pairs of bases\")\n",
                "for i, chromo in enumerate(chromosomes_inv):\n",
                "    i += 1\n",
                "    print(f\"Length of the chromosome -{i:>2} : {len(chromo.DNA_dol):<7} pairs of bases\")"
            ]
        },
        {
            "cell_type": "markdown",
            "metadata": {},
            "source": [
                "### *Reads* acquired from a *P.falciparum* genome sequencing \n",
                "In the same way, *reads* are extracted with *Biopython* and stored in a  python list **reads**. All the *reads* have the same length: 100 pairs of bases"
            ]
        },
        {
            "cell_type": "code",
            "execution_count": 3,
            "metadata": {},
            "outputs": [],
            "source": [
                "reads = []\n",
                "\n",
                "for record in SeqIO.parse(\"SEQUENCES/P_fal_reads.fq\", format=\"fastq\"):\n",
                "    reads.append((record.seq, record.id))"
            ]
        },
        {
            "cell_type": "code",
            "execution_count": 4,
            "metadata": {},
            "outputs": [
                {
                    "name": "stdout",
                    "output_type": "stream",
                    "text": [
                        "Number of reads: 1500000\n",
                        "Reads length: 100\n"
                    ]
                }
            ],
            "source": [
                "print(f\"Number of reads: {len(reads)}\")\n",
                "print(f\"Reads length: {len(reads[0][0])}\")"
            ]
        },
        {
            "cell_type": "markdown",
            "metadata": {},
            "source": [
                "As we can see, the high-throughput sequencing generated 1.5 million *reads*, each 100 nucleotides in size. To sharpen the mapping, the reads will be divided into even smaller fragments, called **kmer**. "
            ]
        },
        {
            "cell_type": "code",
            "execution_count": null,
            "metadata": {},
            "outputs": [],
            "source": []
        },
        {
            "cell_type": "markdown",
            "metadata": {},
            "source": [
                "_____________________"
            ]
        },
        {
            "cell_type": "markdown",
            "metadata": {},
            "source": [
                "# DC3 on genome"
            ]
        },
        {
            "cell_type": "markdown",
            "metadata": {},
            "source": [
                "To store all DC3 result, the following comands.\n",
                "Stored in .npy, one of the best way of storage for list (https://stackoverflow.com/questions/9619199/best-way-to-preserve-numpy-arrays-on-disk)"
            ]
        },
        {
            "cell_type": "code",
            "execution_count": 6,
            "metadata": {},
            "outputs": [
                {
                    "name": "stdout",
                    "output_type": "stream",
                    "text": [
                        "P_fal_chromosome_1\n",
                        "P_fal_chromosome_2\n",
                        "P_fal_chromosome_3\n",
                        "P_fal_chromosome_4\n",
                        "P_fal_chromosome_5\n",
                        "P_fal_chromosome_6\n",
                        "P_fal_chromosome_7\n",
                        "P_fal_chromosome_8\n",
                        "P_fal_chromosome_9\n",
                        "P_fal_chromosome_10\n",
                        "P_fal_chromosome_11\n",
                        "P_fal_chromosome_12\n",
                        "P_fal_chromosome_13\n",
                        "P_fal_chromosome_14\n",
                        "P_fal_chromosome_15\n",
                        "P_fal_chromosome_-1\n",
                        "P_fal_chromosome_-2\n",
                        "P_fal_chromosome_-3\n",
                        "P_fal_chromosome_-4\n",
                        "P_fal_chromosome_-5\n",
                        "P_fal_chromosome_-6\n",
                        "P_fal_chromosome_-7\n",
                        "P_fal_chromosome_-8\n",
                        "P_fal_chromosome_-9\n",
                        "P_fal_chromosome_-10\n",
                        "P_fal_chromosome_-11\n",
                        "P_fal_chromosome_-12\n",
                        "P_fal_chromosome_-13\n",
                        "P_fal_chromosome_-14\n",
                        "P_fal_chromosome_-15\n"
                    ]
                }
            ],
            "source": [
                "for chromo in chromosomes+chromosomes_inv:\n",
                "    print(chromo.file_name)\n",
                "    if chromo.suffix_table is None:\n",
                "        dc3result = dc3(chromo.DNA_dol)\n",
                "        chromo.export_dc3_result(dc3result)"
            ]
        },
        {
            "attachments": {},
            "cell_type": "markdown",
            "metadata": {},
            "source": [
                "This chunk create all Suffix table if it's the first time you generated the dc3 result.\n",
                "All suffixe table has been created to compute BWT on all sequences"
            ]
        },
        {
            "cell_type": "code",
            "execution_count": 7,
            "metadata": {},
            "outputs": [
                {
                    "name": "stdout",
                    "output_type": "stream",
                    "text": [
                        "P_fal_chromosome_1\n",
                        "P_fal_chromosome_2\n",
                        "P_fal_chromosome_3\n",
                        "P_fal_chromosome_4\n",
                        "P_fal_chromosome_5\n",
                        "P_fal_chromosome_6\n",
                        "P_fal_chromosome_7\n",
                        "P_fal_chromosome_8\n",
                        "P_fal_chromosome_9\n",
                        "P_fal_chromosome_10\n",
                        "P_fal_chromosome_11\n",
                        "P_fal_chromosome_12\n",
                        "P_fal_chromosome_13\n",
                        "P_fal_chromosome_14\n",
                        "P_fal_chromosome_15\n",
                        "P_fal_chromosome_-1\n",
                        "P_fal_chromosome_-2\n",
                        "P_fal_chromosome_-3\n",
                        "P_fal_chromosome_-4\n",
                        "P_fal_chromosome_-5\n",
                        "P_fal_chromosome_-6\n",
                        "P_fal_chromosome_-7\n",
                        "P_fal_chromosome_-8\n",
                        "P_fal_chromosome_-9\n",
                        "P_fal_chromosome_-10\n",
                        "P_fal_chromosome_-11\n",
                        "P_fal_chromosome_-12\n",
                        "P_fal_chromosome_-13\n",
                        "P_fal_chromosome_-14\n",
                        "P_fal_chromosome_-15\n"
                    ]
                }
            ],
            "source": [
                "for chromo in chromosomes+chromosomes_inv:\n",
                "    print(chromo.file_name)\n",
                "    if chromo.bwt is None:\n",
                "        bwt_result = bwt.bwt(str(chromo.DNA_dol),chromo.suffix_table) #TODO: avoid str() use\n",
                "        chromo.export_bwt_result(bwt_result) #TODO 2: verify result\n"
            ]
        },
        {
            "cell_type": "code",
            "execution_count": 3,
            "metadata": {},
            "outputs": [
                {
                    "name": "stdout",
                    "output_type": "stream",
                    "text": [
                        "P_fal_chromosome_1\n",
                        "640852\n",
                        "Done !\n",
                        "Exported !\n",
                        "P_fal_chromosome_2\n",
                        "947103\n",
                        "Done !\n",
                        "Exported !\n",
                        "P_fal_chromosome_3\n",
                        "1067972\n",
                        "Done !\n",
                        "Exported !\n",
                        "P_fal_chromosome_4\n",
                        "1200491\n",
                        "Done !\n",
                        "Exported !\n",
                        "P_fal_chromosome_5\n",
                        "1343558\n",
                        "Done !\n",
                        "Exported !\n",
                        "P_fal_chromosome_6\n",
                        "1418243\n",
                        "Done !\n",
                        "Exported !\n",
                        "P_fal_chromosome_7\n",
                        "1445208\n",
                        "Done !\n",
                        "Exported !\n",
                        "P_fal_chromosome_8\n",
                        "1472806\n",
                        "Done !\n",
                        "Exported !\n",
                        "P_fal_chromosome_9\n",
                        "1541736\n",
                        "Done !\n",
                        "Exported !\n",
                        "P_fal_chromosome_10\n",
                        "1687657\n",
                        "Done !\n",
                        "Exported !\n",
                        "P_fal_chromosome_11\n",
                        "2038341\n",
                        "Done !\n",
                        "Exported !\n",
                        "P_fal_chromosome_12\n",
                        "2271495\n",
                        "Done !\n",
                        "Exported !\n",
                        "P_fal_chromosome_13\n",
                        "2925237\n",
                        "Done !\n",
                        "Exported !\n",
                        "P_fal_chromosome_14\n",
                        "3291937\n",
                        "Done !\n",
                        "Exported !\n",
                        "P_fal_chromosome_15\n",
                        "34251\n",
                        "Done !\n",
                        "Exported !\n",
                        "P_fal_chromosome_-1\n",
                        "640852\n",
                        "Done !\n",
                        "Exported !\n",
                        "P_fal_chromosome_-2\n",
                        "947103\n",
                        "Done !\n",
                        "Exported !\n",
                        "P_fal_chromosome_-3\n",
                        "1067972\n",
                        "Done !\n",
                        "Exported !\n",
                        "P_fal_chromosome_-4\n",
                        "1200491\n",
                        "Done !\n",
                        "Exported !\n",
                        "P_fal_chromosome_-5\n",
                        "1343558\n",
                        "Done !\n",
                        "Exported !\n",
                        "P_fal_chromosome_-6\n",
                        "1418243\n",
                        "Done !\n",
                        "Exported !\n",
                        "P_fal_chromosome_-7\n",
                        "1445208\n",
                        "Done !\n",
                        "Exported !\n",
                        "P_fal_chromosome_-8\n",
                        "1472806\n",
                        "Done !\n",
                        "Exported !\n",
                        "P_fal_chromosome_-9\n",
                        "1541736\n",
                        "Done !\n",
                        "Exported !\n",
                        "P_fal_chromosome_-10\n",
                        "1687657\n",
                        "Done !\n",
                        "Exported !\n",
                        "P_fal_chromosome_-11\n",
                        "2038341\n",
                        "Done !\n",
                        "Exported !\n",
                        "P_fal_chromosome_-12\n",
                        "2271495\n",
                        "Done !\n",
                        "Exported !\n",
                        "P_fal_chromosome_-13\n",
                        "2925237\n",
                        "Done !\n",
                        "Exported !\n",
                        "P_fal_chromosome_-14\n",
                        "3291937\n",
                        "Done !\n",
                        "Exported !\n",
                        "P_fal_chromosome_-15\n",
                        "34251\n",
                        "Done !\n",
                        "Exported !\n"
                    ]
                }
            ],
            "source": [
                "for chromo in chromosomes+chromosomes_inv:\n",
                "    print(chromo.file_name)\n",
                "    if chromo.rank_mat is None:\n",
                "        print(len(chromo.bwt))\n",
                "        rank_mat = bwt.create_rank_mat(chromo.bwt)\n",
                "        print(\"Done !\")\n",
                "        chromo.export_rank_matrix_result(rank_mat) \n",
                "        print(\"Exported !\")"
            ]
        }
    ],
    "metadata": {
        "kernelspec": {
            "display_name": "Python 3",
            "language": "python",
            "name": "python3"
        },
        "language_info": {
            "codemirror_mode": {
                "name": "ipython",
                "version": 3
            },
            "file_extension": ".py",
            "mimetype": "text/x-python",
            "name": "python",
            "nbconvert_exporter": "python",
            "pygments_lexer": "ipython3",
            "version": "3.10.3"
        },
        "orig_nbformat": 4,
        "vscode": {
            "interpreter": {
                "hash": "9c6950969c84b67edea1a7d8f4ef0483805b2f2e9e6113a3880292c4ff65adf5"
            }
        }
    },
    "nbformat": 4,
    "nbformat_minor": 2
}
