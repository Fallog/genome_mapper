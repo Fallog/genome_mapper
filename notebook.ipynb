{
 "cells": [
  {
   "cell_type": "markdown",
   "metadata": {},
   "source": [
    "# Projet d’Algorithmique pour la Génomique\n",
    "\n",
    "## Développement d’une solution de mapping de données de séquençage à haut-débit sur un génome de référence\n",
    "\n",
    "### Nicolas Parisot & Sergio Peignier\n",
    "### (D’après Alban Mancheron et Vincent Ranwez)"
   ]
  },
  {
   "cell_type": "markdown",
   "metadata": {},
   "source": [
    "## Lecture des données de séquençage avec le package *Biopython*\n",
    "\n",
    "### Génome entier, chromosome par chromosme, de l'organisme *P.falciparum*\n",
    "\n",
    "Avec le package *Biopython*, chacun des 15 chromosomes de *Plasmodium falciparum* est stocké sous la forme d'une chaîne de caractère dans une liste python appelée **chromosomes**. </p>\n",
    "C'est sur chacun de ces chromosomes que sera réalisé les opérations de mapping et des transformations préalables au mapping."
   ]
  },
  {
   "cell_type": "code",
   "execution_count": 1,
   "metadata": {},
   "outputs": [],
   "source": [
    "from Bio import SeqIO\n",
    "\n",
    "chromosomes = []\n",
    "\n",
    "for record in SeqIO.parse(\"SEQUENCES/P_fal_genome.fna\", format=\"fasta\"):\n",
    "    chromosomes.append(record.seq)\n"
   ]
  },
  {
   "cell_type": "markdown",
   "metadata": {},
   "source": [
    "Le code suivant nous donne le nombre total de chromosomes, ainsi que leur taille respective :"
   ]
  },
  {
   "cell_type": "code",
   "execution_count": 2,
   "metadata": {},
   "outputs": [
    {
     "name": "stdout",
     "output_type": "stream",
     "text": [
      "Nombre de chromosomes : 15\n",
      "Taille de chaque chromosomes, de 1 à 15 :\n",
      "Taille du chromosome  1 : 640851  paires de bases\n",
      "Taille du chromosome  2 : 947102  paires de bases\n",
      "Taille du chromosome  3 : 1067971 paires de bases\n",
      "Taille du chromosome  4 : 1200490 paires de bases\n",
      "Taille du chromosome  5 : 1343557 paires de bases\n",
      "Taille du chromosome  6 : 1418242 paires de bases\n",
      "Taille du chromosome  7 : 1445207 paires de bases\n",
      "Taille du chromosome  8 : 1472805 paires de bases\n",
      "Taille du chromosome  9 : 1541735 paires de bases\n",
      "Taille du chromosome 10 : 1687656 paires de bases\n",
      "Taille du chromosome 11 : 2038340 paires de bases\n",
      "Taille du chromosome 12 : 2271494 paires de bases\n",
      "Taille du chromosome 13 : 2925236 paires de bases\n",
      "Taille du chromosome 14 : 3291936 paires de bases\n",
      "Taille du chromosome 15 : 34250   paires de bases\n"
     ]
    }
   ],
   "source": [
    "print(f\"Nombre de chromosomes : {len(chromosomes)}\")\n",
    "print(\"Taille de chaque chromosomes, de 1 à 15 :\")\n",
    "i = 1\n",
    "for chromo in chromosomes:\n",
    "    print(f\"Taille du chromosome {i: >2} : {len(chromo):<7} paires de bases\")\n",
    "    i += 1"
   ]
  },
  {
   "cell_type": "markdown",
   "metadata": {},
   "source": [
    "### Les *reads*, issus du séquençage à haut-débit du génome d'un individu *P.falciparum*\n",
    "De la même manière que précédemment, les *reads* sont extraits à l'aide de *Biopython* puis stockés dans une liste python **reads**."
   ]
  },
  {
   "cell_type": "code",
   "execution_count": 3,
   "metadata": {},
   "outputs": [],
   "source": [
    "reads = []\n",
    "\n",
    "for record in SeqIO.parse(\"SEQUENCES/P_fal_reads.fq\", format=\"fastq\"):\n",
    "    reads.append(record.seq)"
   ]
  },
  {
   "cell_type": "code",
   "execution_count": 4,
   "metadata": {},
   "outputs": [
    {
     "name": "stdout",
     "output_type": "stream",
     "text": [
      "Nombre total de reads : 1500000\n",
      "Taille des reads: 100\n"
     ]
    }
   ],
   "source": [
    "print(f\"Nombre total de reads : {len(reads)}\")\n",
    "print(f\"Taille des reads: {len(reads[0])}\")"
   ]
  },
  {
   "cell_type": "markdown",
   "metadata": {},
   "source": [
    "Comme nous pouvons le voir, le séquençage haut-débit a généré 1.5 millions de *reads*, d'une taille de 100 nucléotides. Pour affiner le mapping, les reads vont être divisés en fragments encore plus petit, appelés **kmer**. "
   ]
  },
  {
   "cell_type": "markdown",
   "metadata": {},
   "source": [
    "_____________________"
   ]
  },
  {
   "cell_type": "markdown",
   "metadata": {},
   "source": [
    "# DC3 on genome"
   ]
  },
  {
   "cell_type": "code",
   "execution_count": 5,
   "metadata": {},
   "outputs": [],
   "source": [
    "from y_dc3 import dc3\n",
    "import File_handler"
   ]
  },
  {
   "cell_type": "markdown",
   "metadata": {},
   "source": [
    "To store all DC3 result, the following comands."
   ]
  },
  {
   "cell_type": "code",
   "execution_count": 10,
   "metadata": {},
   "outputs": [],
   "source": [
    "for i,chr in enumerate(chromosomes):\n",
    "    name = f\"P_fal_chromosome_{i+1}\"\n",
    "    file = File_handler.File_handler(name)\n",
    "    file.export_dc3_result(list(dc3(chr))) # List(numpy) pour régler mais bon \n"
   ]
  }
 ],
 "metadata": {
  "kernelspec": {
   "display_name": "Python 3.11.0 64-bit",
   "language": "python",
   "name": "python3"
  },
  "language_info": {
   "codemirror_mode": {
    "name": "ipython",
    "version": 3
   },
   "file_extension": ".py",
   "mimetype": "text/x-python",
   "name": "python",
   "nbconvert_exporter": "python",
   "pygments_lexer": "ipython3",
   "version": "3.11.0"
  },
  "orig_nbformat": 4,
  "vscode": {
   "interpreter": {
    "hash": "94ca771b458964c1ab442b05578f90bd0a7f7c12d767f9e0d71864d7e9ccae03"
   }
  }
 },
 "nbformat": 4,
 "nbformat_minor": 2
}
