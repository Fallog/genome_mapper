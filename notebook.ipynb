{
    "cells": [
        {
            "cell_type": "markdown",
            "metadata": {},
            "source": [
                "# Genomics Algorithmics project\n",
                "\n",
                "## Development of a mapping solution over a reference genome for sequencing datas  \n",
                "\n",
                "### Nicolas Parisot & Sergio Peignier"
            ]
        },
        {
            "attachments": {},
            "cell_type": "markdown",
            "metadata": {},
            "source": [
                "## Reading sequencing datas with *Biopython* package\n",
                "\n",
                "### Genome and inversed genome of *Plasmodium falciparum*\n",
                "\n",
                "With *Biopython*, each of the 15 *Plasmodium falciparum* chromosomes is stored in a python list under the form of a string. The python list is named **chromosomes**. Mapping operations will be realised on these chromosomes."
            ]
        },
        {
            "cell_type": "code",
            "execution_count": 2,
            "metadata": {},
            "outputs": [],
            "source": [
                "from Bio import SeqIO\n",
                "from tqdm import tqdm\n",
                "from Chromosome import Chromosome\n",
                "from dc3 import dc3\n",
                "import bwt\n",
                "import tools\n",
                "import mapping\n",
                "import importlib"
            ]
        },
        {
            "cell_type": "code",
            "execution_count": 3,
            "metadata": {},
            "outputs": [
                {
                    "name": "stderr",
                    "output_type": "stream",
                    "text": [
                        "Chromosomes importation: 100%|██████████| 30/30 [00:12<00:00,  2.44it/s]\n"
                    ]
                }
            ],
            "source": [
                "chromosomes:list[Chromosome] = []\n",
                "chromosomes_inv:list[Chromosome] = []\n",
                "\n",
                "with tqdm(total=30, desc=\"Chromosomes importation\") as pbar:\n",
                "    for i,record in enumerate(SeqIO.parse(\"SEQUENCES/P_fal_genome.fna\", format=\"fasta\")):\n",
                "        # Normal chromosomes\n",
                "        name = f\"P_fal_chromosome_{i+1}\"\n",
                "        chromo = Chromosome(name,record.seq,record.id)\n",
                "        chromosomes.append(chromo)\n",
                "        pbar.update(1)\n",
                "        \n",
                "        # Inversed chromosomes\n",
                "        name_inversed_comp = f\"P_fal_chromosome_-{i+1}\"\n",
                "        inversed_comp_seq = tools.inverse_sequence(record.seq)\n",
                "        chromo_inv = Chromosome(name_inversed_comp,inversed_comp_seq,record.id)\n",
                "        chromosomes_inv.append(chromo_inv)\n",
                "        pbar.update(1)"
            ]
        },
        {
            "cell_type": "markdown",
            "metadata": {},
            "source": [
                "Number and lengths of the chromosomes are given here:"
            ]
        },
        {
            "cell_type": "code",
            "execution_count": 4,
            "metadata": {},
            "outputs": [
                {
                    "name": "stdout",
                    "output_type": "stream",
                    "text": [
                        "Chromosomes number: 15\n",
                        "Chromosomes length, from 1 to 15:\n",
                        "Length of the chromosome  1 : 640852  pairs of bases\n",
                        "Length of the chromosome  2 : 947103  pairs of bases\n",
                        "Length of the chromosome  3 : 1067972 pairs of bases\n",
                        "Length of the chromosome  4 : 1200491 pairs of bases\n",
                        "Length of the chromosome  5 : 1343558 pairs of bases\n",
                        "Length of the chromosome  6 : 1418243 pairs of bases\n",
                        "Length of the chromosome  7 : 1445208 pairs of bases\n",
                        "Length of the chromosome  8 : 1472806 pairs of bases\n",
                        "Length of the chromosome  9 : 1541736 pairs of bases\n",
                        "Length of the chromosome 10 : 1687657 pairs of bases\n",
                        "Length of the chromosome 11 : 2038341 pairs of bases\n",
                        "Length of the chromosome 12 : 2271495 pairs of bases\n",
                        "Length of the chromosome 13 : 2925237 pairs of bases\n",
                        "Length of the chromosome 14 : 3291937 pairs of bases\n",
                        "Length of the chromosome 15 : 34251   pairs of bases\n",
                        "Length of the chromosome - 1 : 640852  pairs of bases\n",
                        "Length of the chromosome - 2 : 947103  pairs of bases\n",
                        "Length of the chromosome - 3 : 1067972 pairs of bases\n",
                        "Length of the chromosome - 4 : 1200491 pairs of bases\n",
                        "Length of the chromosome - 5 : 1343558 pairs of bases\n",
                        "Length of the chromosome - 6 : 1418243 pairs of bases\n",
                        "Length of the chromosome - 7 : 1445208 pairs of bases\n",
                        "Length of the chromosome - 8 : 1472806 pairs of bases\n",
                        "Length of the chromosome - 9 : 1541736 pairs of bases\n",
                        "Length of the chromosome -10 : 1687657 pairs of bases\n",
                        "Length of the chromosome -11 : 2038341 pairs of bases\n",
                        "Length of the chromosome -12 : 2271495 pairs of bases\n",
                        "Length of the chromosome -13 : 2925237 pairs of bases\n",
                        "Length of the chromosome -14 : 3291937 pairs of bases\n",
                        "Length of the chromosome -15 : 34251   pairs of bases\n"
                    ]
                }
            ],
            "source": [
                "print(f\"Chromosomes number: {len(chromosomes)}\")\n",
                "print(\"Chromosomes length, from 1 to 15:\")\n",
                "for i, chromo in enumerate(chromosomes):\n",
                "    i += 1\n",
                "    print(f\"Length of the chromosome {i:>2} : {len(chromo.DNA_dol):<7} pairs of bases\")\n",
                "for i, chromo in enumerate(chromosomes_inv):\n",
                "    i += 1\n",
                "    print(f\"Length of the chromosome -{i:>2} : {len(chromo.DNA_dol):<7} pairs of bases\")"
            ]
        },
        {
            "attachments": {},
            "cell_type": "markdown",
            "metadata": {},
            "source": [
                "The objectives of this project is to perform a **mapping** of short DNA sequences (1500000 of 100 nucleotides long) over all the chromosomes we just imported. In other words, we need to find their localisation.\n",
                "\n",
                "Due to the length of the genome and the number of read to map, this problem can't be done with \"naive\" methods. Instead, we use a **string-search** algorithm, based on the Burrows Wheeler Transform (BWT) (Sources: https://www.molgen.mpg.de/3708260/bwt_fm.pdf). The read are mapped over the BWT of all the chromosomes. To that extend, we need to compute the BWT of very large strings which can be very time consuming. The **DC3 algorithm** allows us to compute very efficiently suffix array of strings and the we use it to compute the BWT."
            ]
        },
        {
            "cell_type": "markdown",
            "metadata": {},
            "source": [
                "_____________________"
            ]
        },
        {
            "attachments": {},
            "cell_type": "markdown",
            "metadata": {},
            "source": [
                "## Suffix array of the genome with DC3 algorithm\n",
                "The following lines of code are used to import the suffix table computed from the DC3 algorithm. Suffix tables are stored in npy files, one of the best way of storage for list <p>\n",
                "Source: https://stackoverflow.com/questions/9619199/-way-to-preserve-numpy-arrays-on-disk"
            ]
        },
        {
            "cell_type": "code",
            "execution_count": 5,
            "metadata": {},
            "outputs": [
                {
                    "name": "stdout",
                    "output_type": "stream",
                    "text": [
                        "P_fal_chromosome_1\n",
                        "P_fal_chromosome_2\n",
                        "P_fal_chromosome_3\n",
                        "P_fal_chromosome_4\n",
                        "P_fal_chromosome_5\n",
                        "P_fal_chromosome_6\n",
                        "P_fal_chromosome_7\n",
                        "P_fal_chromosome_8\n",
                        "P_fal_chromosome_9\n",
                        "P_fal_chromosome_10\n",
                        "P_fal_chromosome_11\n",
                        "P_fal_chromosome_12\n",
                        "P_fal_chromosome_13\n",
                        "P_fal_chromosome_14\n",
                        "P_fal_chromosome_15\n",
                        "P_fal_chromosome_-1\n",
                        "P_fal_chromosome_-2\n",
                        "P_fal_chromosome_-3\n",
                        "P_fal_chromosome_-4\n",
                        "P_fal_chromosome_-5\n",
                        "P_fal_chromosome_-6\n",
                        "P_fal_chromosome_-7\n",
                        "P_fal_chromosome_-8\n",
                        "P_fal_chromosome_-9\n",
                        "P_fal_chromosome_-10\n",
                        "P_fal_chromosome_-11\n",
                        "P_fal_chromosome_-12\n",
                        "P_fal_chromosome_-13\n",
                        "P_fal_chromosome_-14\n",
                        "P_fal_chromosome_-15\n"
                    ]
                }
            ],
            "source": [
                "for chromo in chromosomes+chromosomes_inv:\n",
                "    print(chromo.file_name)\n",
                "    if chromo.suffix_table is None:\n",
                "        dc3result = dc3(chromo.DNA_dol)\n",
                "        chromo.export_dc3_result(dc3result)"
            ]
        },
        {
            "attachments": {},
            "cell_type": "markdown",
            "metadata": {},
            "source": [
                "## Burrows Wheeler Transform (BWT) of the genome\n",
                "This chunk creates (or imports) the BWT transform of every chromosomes."
            ]
        },
        {
            "cell_type": "code",
            "execution_count": 6,
            "metadata": {},
            "outputs": [
                {
                    "name": "stdout",
                    "output_type": "stream",
                    "text": [
                        "P_fal_chromosome_1\n",
                        "P_fal_chromosome_2\n",
                        "P_fal_chromosome_3\n",
                        "P_fal_chromosome_4\n",
                        "P_fal_chromosome_5\n",
                        "P_fal_chromosome_6\n",
                        "P_fal_chromosome_7\n",
                        "P_fal_chromosome_8\n",
                        "P_fal_chromosome_9\n",
                        "P_fal_chromosome_10\n",
                        "P_fal_chromosome_11\n",
                        "P_fal_chromosome_12\n",
                        "P_fal_chromosome_13\n",
                        "P_fal_chromosome_14\n",
                        "P_fal_chromosome_15\n",
                        "P_fal_chromosome_-1\n",
                        "P_fal_chromosome_-2\n",
                        "P_fal_chromosome_-3\n",
                        "P_fal_chromosome_-4\n",
                        "P_fal_chromosome_-5\n",
                        "P_fal_chromosome_-6\n",
                        "P_fal_chromosome_-7\n",
                        "P_fal_chromosome_-8\n",
                        "P_fal_chromosome_-9\n",
                        "P_fal_chromosome_-10\n",
                        "P_fal_chromosome_-11\n",
                        "P_fal_chromosome_-12\n",
                        "P_fal_chromosome_-13\n",
                        "P_fal_chromosome_-14\n",
                        "P_fal_chromosome_-15\n"
                    ]
                }
            ],
            "source": [
                "for chromo in chromosomes+chromosomes_inv:\n",
                "    print(chromo.file_name)\n",
                "    if chromo.bwt is None:\n",
                "        bwt_result = bwt.bwt(str(chromo.DNA_dol),chromo.suffix_table)\n",
                "        bwt_result = bwt_result.replace(\"$\", \"\")\n",
                "        chromo.export_bwt_result(bwt_result)\n"
            ]
        },
        {
            "attachments": {},
            "cell_type": "markdown",
            "metadata": {},
            "source": [
                "Next we compute or import the rank matrix of each chromosome. Rank matrices are large python dictionnaries storing for a chromosome, the rank array of each of its four nucleotides \"A\", \"C\", \"G\", \"T\" and for the end of string character \"$\".<p>\n",
                "Rank matrices are very useful for our *string_search* function in the mapping module. They allow us to localise substrings with $O(1)$ complexity (again the source: https://www.molgen.mpg.de/3708260/bwt_fm.pdf)."
            ]
        },
        {
            "cell_type": "code",
            "execution_count": 7,
            "metadata": {},
            "outputs": [
                {
                    "name": "stdout",
                    "output_type": "stream",
                    "text": [
                        "P_fal_chromosome_1\n",
                        "P_fal_chromosome_2\n",
                        "P_fal_chromosome_3\n",
                        "P_fal_chromosome_4\n",
                        "P_fal_chromosome_5\n",
                        "P_fal_chromosome_6\n",
                        "P_fal_chromosome_7\n",
                        "P_fal_chromosome_8\n",
                        "P_fal_chromosome_9\n",
                        "P_fal_chromosome_10\n",
                        "P_fal_chromosome_11\n",
                        "P_fal_chromosome_12\n",
                        "P_fal_chromosome_13\n",
                        "P_fal_chromosome_14\n",
                        "P_fal_chromosome_15\n",
                        "P_fal_chromosome_-1\n",
                        "P_fal_chromosome_-2\n",
                        "P_fal_chromosome_-3\n",
                        "P_fal_chromosome_-4\n",
                        "P_fal_chromosome_-5\n",
                        "P_fal_chromosome_-6\n",
                        "P_fal_chromosome_-7\n",
                        "P_fal_chromosome_-8\n",
                        "P_fal_chromosome_-9\n",
                        "P_fal_chromosome_-10\n",
                        "P_fal_chromosome_-11\n",
                        "P_fal_chromosome_-12\n",
                        "P_fal_chromosome_-13\n",
                        "P_fal_chromosome_-14\n",
                        "P_fal_chromosome_-15\n"
                    ]
                }
            ],
            "source": [
                "for chromo in chromosomes+chromosomes_inv:\n",
                "    print(chromo.file_name)\n",
                "    if chromo.rank_mat is None:\n",
                "        print(len(chromo.bwt))\n",
                "        rank_mat = bwt.create_rank_mat(chromo.bwt)\n",
                "        print(\"Done !\")\n",
                "        chromo.export_rank_matrix_result(rank_mat) \n",
                "        print(\"Exported !\")"
            ]
        },
        {
            "attachments": {},
            "cell_type": "markdown",
            "metadata": {},
            "source": [
                "## Reads importation\n",
                "*Reads* sequence and identifier are extracted with *Biopython* and stored in a python list **reads**. The sequencing produced 100000 *reads* for each of the 15 chromomoses for a total of 1500000 *reads*. All the *reads* have the same length: 100 pairs of bases. "
            ]
        },
        {
            "cell_type": "code",
            "execution_count": 20,
            "metadata": {},
            "outputs": [
                {
                    "name": "stderr",
                    "output_type": "stream",
                    "text": [
                        "Reads importation: 100%|██████████| 1500000/1500000 [00:17<00:00, 84710.49it/s]\n"
                    ]
                }
            ],
            "source": [
                "reads = []\n",
                "with tqdm(total=1500000, desc=\"Reads importation\") as pbar:\n",
                "    for record in SeqIO.parse(\"SEQUENCES/P_fal_reads.fq\", format=\"fastq\"):\n",
                "        reads.append((str(record.seq), record.id))\n",
                "        pbar.update(1)"
            ]
        },
        {
            "cell_type": "code",
            "execution_count": 21,
            "metadata": {},
            "outputs": [
                {
                    "name": "stdout",
                    "output_type": "stream",
                    "text": [
                        "Number of reads: 1500000\n",
                        "Reads length: 100\n",
                        "<class 'str'>\n"
                    ]
                }
            ],
            "source": [
                "print(f\"Number of reads: {len(reads)}\")\n",
                "print(f\"Reads length: {len(reads[0][0])}\")"
            ]
        },
        {
            "cell_type": "code",
            "execution_count": 17,
            "metadata": {},
            "outputs": [
                {
                    "name": "stderr",
                    "output_type": "stream",
                    "text": [
                        "Reads importation:   0%|          | 8/5000 [00:00<00:37, 134.10it/s]"
                    ]
                },
                {
                    "name": "stdout",
                    "output_type": "stream",
                    "text": [
                        "[178936 179004]\n"
                    ]
                },
                {
                    "name": "stderr",
                    "output_type": "stream",
                    "text": [
                        "\n"
                    ]
                }
            ],
            "source": [
                "importlib.reload(mapping)\n",
                "def test():\n",
                "    with tqdm(total=5000, desc=\"Reads importation\") as pbar:\n",
                "        for i in range(5000):\n",
                "            read = str(reads[i][0])\n",
                "            k_reads = mapping.cut_read_to_kmer(read,20)\n",
                "            k_reads_locs = [mapping.string_search(k_read, chromosomes[0]) for k_read in k_reads]\n",
                "            loc_read = mapping.link_kmer(k_reads, k_reads_locs)\n",
                "            if not loc_read[1] == -1:\n",
                "                return loc_read\n",
                "            pbar.update(1)\n",
                "            \n",
                "print(test())\n",
                "# import cProfile\n",
                "# cProfile.run(\"test()\")"
            ]
        },
        {
            "attachments": {},
            "cell_type": "markdown",
            "metadata": {},
            "source": [
                "## Mapping algorithm\n",
                "To find the location(s) of a given read on a genome, we start with the cutting of a read into smaller pieces, called **kmers**.\n",
                "Then we find all the locations of these kmers and we \"reconstruct\" the read to find it's most precise localisation. <p>\n",
                "The length of the kmers is set to 20 which seems to be a good trade-off between precision and mapping speed (the smaller a kmer is, the better the mapping can be because it is less sensitive to mutations).<p>\n",
                "The localisations having the minimal number of mismatched kmer is considered as the most probable localisations and therefor are the one conserved in the results.<p>"
            ]
        },
        {
            "cell_type": "code",
            "execution_count": null,
            "metadata": {},
            "outputs": [],
            "source": [
                "for read_info in tqdm(reads):\n",
                "    read_seq = read_info[0]\n",
                "    read_id = read_info[0]\n",
                "    k_read = mapping.cut_read_to_kmer(read_seq, 20)\n",
                "    k_locs = []\n",
                "    for chromo in chromosomes:\n",
                "        pass \n",
                "        # TODO remplir k_locs avec les resultats de la string search +\n",
                "        # une clé permettant de retrouver le chromosome de ces positions\n",
                "    # TODO Pour chaque array dans klocs, reconstruire les reads et écrire\n",
                "    # le read, ses positions et le chromosome de ces positions dans un fichier \n",
                "        "
            ]
        }
    ],
    "metadata": {
        "kernelspec": {
            "display_name": "Python 3",
            "language": "python",
            "name": "python3"
        },
        "language_info": {
            "codemirror_mode": {
                "name": "ipython",
                "version": 3
            },
            "file_extension": ".py",
            "mimetype": "text/x-python",
            "name": "python",
            "nbconvert_exporter": "python",
            "pygments_lexer": "ipython3",
            "version": "3.10.6"
        },
        "orig_nbformat": 4,
        "vscode": {
            "interpreter": {
                "hash": "916dbcbb3f70747c44a77c7bcd40155683ae19c65e1c03b4aa3499c5328201f1"
            }
        }
    },
    "nbformat": 4,
    "nbformat_minor": 2
}
