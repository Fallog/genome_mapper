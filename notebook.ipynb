{
    "cells": [
        {
            "cell_type": "markdown",
            "metadata": {},
            "source": [
                "# Genomics Algorithmics project\n",
                "\n",
                "## Development of a mapping solution over a reference genome for sequencing datas  \n",
                "\n",
                "### Nicolas Parisot & Sergio Peignier"
            ]
        },
        {
            "cell_type": "markdown",
            "metadata": {},
            "source": [
                "## Reading sequencing datas with *Biopython* package\n",
                "\n",
                "### Complete genome, chromosome by chromosome, of *Plasmodium falciparum*\n",
                "\n",
                "With *Biopython*, each of the 15 *Plasmodium falciparum* chromosomes is stored in a python list under the form of a string. The python list is named **chromosomes**. Mapping operations will be realised on these chromosomes."
            ]
        },
        {
            "cell_type": "code",
            "execution_count": 1,
            "metadata": {},
            "outputs": [],
            "source": [
                "from Bio import SeqIO\n",
                "from Chromosome import Chromosome\n",
                "from dc3 import dc3\n",
                "import bwt\n",
                "import tools\n",
                "import mapping"
            ]
        },
        {
            "cell_type": "code",
            "execution_count": 2,
            "metadata": {},
            "outputs": [],
            "source": [
                "chromosomes:list[Chromosome] = []\n",
                "chromosomes_inv:list[Chromosome] = []\n",
                "\n",
                "for i,record in enumerate(SeqIO.parse(\"SEQUENCES/P_fal_genome.fna\", format=\"fasta\")):\n",
                "    name = f\"P_fal_chromosome_{i+1}\"\n",
                "    chromo = Chromosome(name,record.seq,record.id)\n",
                "    chromosomes.append(chromo)\n",
                "    #now for inverse\n",
                "    name_inversed_comp = f\"P_fal_chromosome_-{i+1}\"\n",
                "    inversed_comp_seq = tools.inverse_sequence(record.seq)\n",
                "    chromo_inv = Chromosome(name_inversed_comp,inversed_comp_seq,record.id)\n",
                "    chromosomes_inv.append(chromo_inv)"
            ]
        },
        {
            "cell_type": "markdown",
            "metadata": {},
            "source": [
                "Number and lengths of the chromosomes are given here:"
            ]
        },
        {
            "cell_type": "code",
            "execution_count": 3,
            "metadata": {},
            "outputs": [
                {
                    "name": "stdout",
                    "output_type": "stream",
                    "text": [
                        "Chromosomes number: 15\n",
                        "Chromosomes length, from 1 to 15:\n",
                        "Length of the chromosome  1 : 640852  pairs of bases\n",
                        "Length of the chromosome  2 : 947103  pairs of bases\n",
                        "Length of the chromosome  3 : 1067972 pairs of bases\n",
                        "Length of the chromosome  4 : 1200491 pairs of bases\n",
                        "Length of the chromosome  5 : 1343558 pairs of bases\n",
                        "Length of the chromosome  6 : 1418243 pairs of bases\n",
                        "Length of the chromosome  7 : 1445208 pairs of bases\n",
                        "Length of the chromosome  8 : 1472806 pairs of bases\n",
                        "Length of the chromosome  9 : 1541736 pairs of bases\n",
                        "Length of the chromosome 10 : 1687657 pairs of bases\n",
                        "Length of the chromosome 11 : 2038341 pairs of bases\n",
                        "Length of the chromosome 12 : 2271495 pairs of bases\n",
                        "Length of the chromosome 13 : 2925237 pairs of bases\n",
                        "Length of the chromosome 14 : 3291937 pairs of bases\n",
                        "Length of the chromosome 15 : 34251   pairs of bases\n",
                        "Length of the chromosome - 1 : 640852  pairs of bases\n",
                        "Length of the chromosome - 2 : 947103  pairs of bases\n",
                        "Length of the chromosome - 3 : 1067972 pairs of bases\n",
                        "Length of the chromosome - 4 : 1200491 pairs of bases\n",
                        "Length of the chromosome - 5 : 1343558 pairs of bases\n",
                        "Length of the chromosome - 6 : 1418243 pairs of bases\n",
                        "Length of the chromosome - 7 : 1445208 pairs of bases\n",
                        "Length of the chromosome - 8 : 1472806 pairs of bases\n",
                        "Length of the chromosome - 9 : 1541736 pairs of bases\n",
                        "Length of the chromosome -10 : 1687657 pairs of bases\n",
                        "Length of the chromosome -11 : 2038341 pairs of bases\n",
                        "Length of the chromosome -12 : 2271495 pairs of bases\n",
                        "Length of the chromosome -13 : 2925237 pairs of bases\n",
                        "Length of the chromosome -14 : 3291937 pairs of bases\n",
                        "Length of the chromosome -15 : 34251   pairs of bases\n"
                    ]
                }
            ],
            "source": [
                "print(f\"Chromosomes number: {len(chromosomes)}\")\n",
                "print(\"Chromosomes length, from 1 to 15:\")\n",
                "for i, chromo in enumerate(chromosomes):\n",
                "    i += 1\n",
                "    print(f\"Length of the chromosome {i:>2} : {len(chromo.DNA_dol):<7} pairs of bases\")\n",
                "for i, chromo in enumerate(chromosomes_inv):\n",
                "    i += 1\n",
                "    print(f\"Length of the chromosome -{i:>2} : {len(chromo.DNA_dol):<7} pairs of bases\")"
            ]
        },
        {
            "attachments": {},
            "cell_type": "markdown",
            "metadata": {},
            "source": [
                "### *Reads* acquired from a *P.falciparum* genome sequencing \n",
                "In the same way, *reads* are extracted with *Biopython* and stored in a  python list **reads**. All the *reads* have the same length: 100 pairs of bases"
            ]
        },
        {
            "cell_type": "code",
            "execution_count": 3,
            "metadata": {},
            "outputs": [],
            "source": [
                "reads = []\n",
                "\n",
                "for record in SeqIO.parse(\"SEQUENCES/P_fal_reads.fq\", format=\"fastq\"):\n",
                "    reads.append((record.seq, record.id))"
            ]
        },
        {
            "cell_type": "code",
            "execution_count": 4,
            "metadata": {},
            "outputs": [
                {
                    "name": "stdout",
                    "output_type": "stream",
                    "text": [
                        "Number of reads: 1500000\n",
                        "Reads length: 100\n"
                    ]
                }
            ],
            "source": [
                "print(f\"Number of reads: {len(reads)}\")\n",
                "print(f\"Reads length: {len(reads[0][0])}\")"
            ]
        },
        {
            "cell_type": "markdown",
            "metadata": {},
            "source": [
                "As we can see, the high-throughput sequencing generated 1.5 million *reads*, each 100 nucleotides in size. To sharpen the mapping, the reads will be divided into even smaller fragments, called **kmer**. "
            ]
        },
        {
            "cell_type": "code",
            "execution_count": null,
            "metadata": {},
            "outputs": [],
            "source": []
        },
        {
            "cell_type": "markdown",
            "metadata": {},
            "source": [
                "_____________________"
            ]
        },
        {
            "cell_type": "markdown",
            "metadata": {},
            "source": [
                "# DC3 on genome"
            ]
        },
        {
            "cell_type": "markdown",
            "metadata": {},
            "source": [
                "To store all DC3 result, the following comands.\n",
                "Stored in .npy, one of the best way of storage for list (https://stackoverflow.com/questions/9619199/best-way-to-preserve-numpy-arrays-on-disk)"
            ]
        },
        {
            "cell_type": "code",
            "execution_count": 6,
            "metadata": {},
            "outputs": [
                {
                    "name": "stdout",
                    "output_type": "stream",
                    "text": [
                        "P_fal_chromosome_1\n",
                        "P_fal_chromosome_2\n",
                        "P_fal_chromosome_3\n",
                        "P_fal_chromosome_4\n",
                        "P_fal_chromosome_5\n",
                        "P_fal_chromosome_6\n",
                        "P_fal_chromosome_7\n",
                        "P_fal_chromosome_8\n",
                        "P_fal_chromosome_9\n",
                        "P_fal_chromosome_10\n",
                        "P_fal_chromosome_11\n",
                        "P_fal_chromosome_12\n",
                        "P_fal_chromosome_13\n",
                        "P_fal_chromosome_14\n",
                        "P_fal_chromosome_15\n",
                        "P_fal_chromosome_-1\n",
                        "P_fal_chromosome_-2\n",
                        "P_fal_chromosome_-3\n",
                        "P_fal_chromosome_-4\n",
                        "P_fal_chromosome_-5\n",
                        "P_fal_chromosome_-6\n",
                        "P_fal_chromosome_-7\n",
                        "P_fal_chromosome_-8\n",
                        "P_fal_chromosome_-9\n",
                        "P_fal_chromosome_-10\n",
                        "P_fal_chromosome_-11\n",
                        "P_fal_chromosome_-12\n",
                        "P_fal_chromosome_-13\n",
                        "P_fal_chromosome_-14\n",
                        "P_fal_chromosome_-15\n"
                    ]
                }
            ],
            "source": [
                "for chromo in chromosomes+chromosomes_inv:\n",
                "    print(chromo.file_name)\n",
                "    if chromo.suffix_table is None:\n",
                "        dc3result = dc3(chromo.DNA_dol)\n",
                "        chromo.export_dc3_result(dc3result)"
            ]
        },
        {
            "attachments": {},
            "cell_type": "markdown",
            "metadata": {},
            "source": [
                "This chunk create all Suffix table if it's the first time you generated the dc3 result.\n",
                "All suffixe table has been created to compute BWT on all sequences"
            ]
        },
        {
            "cell_type": "code",
            "execution_count": 7,
            "metadata": {},
            "outputs": [
                {
                    "name": "stdout",
                    "output_type": "stream",
                    "text": [
                        "P_fal_chromosome_1\n",
                        "P_fal_chromosome_2\n",
                        "P_fal_chromosome_3\n",
                        "P_fal_chromosome_4\n",
                        "P_fal_chromosome_5\n",
                        "P_fal_chromosome_6\n",
                        "P_fal_chromosome_7\n",
                        "P_fal_chromosome_8\n",
                        "P_fal_chromosome_9\n",
                        "P_fal_chromosome_10\n",
                        "P_fal_chromosome_11\n",
                        "P_fal_chromosome_12\n",
                        "P_fal_chromosome_13\n",
                        "P_fal_chromosome_14\n",
                        "P_fal_chromosome_15\n",
                        "P_fal_chromosome_-1\n",
                        "P_fal_chromosome_-2\n",
                        "P_fal_chromosome_-3\n",
                        "P_fal_chromosome_-4\n",
                        "P_fal_chromosome_-5\n",
                        "P_fal_chromosome_-6\n",
                        "P_fal_chromosome_-7\n",
                        "P_fal_chromosome_-8\n",
                        "P_fal_chromosome_-9\n",
                        "P_fal_chromosome_-10\n",
                        "P_fal_chromosome_-11\n",
                        "P_fal_chromosome_-12\n",
                        "P_fal_chromosome_-13\n",
                        "P_fal_chromosome_-14\n",
                        "P_fal_chromosome_-15\n"
                    ]
                }
            ],
            "source": [
                "for chromo in chromosomes+chromosomes_inv:\n",
                "    print(chromo.file_name)\n",
                "    if chromo.bwt is None:\n",
                "        bwt_result = bwt.bwt(str(chromo.DNA_dol),chromo.suffix_table) #TODO: avoid str() use\n",
                "        bwt_result = bwt_result.replace(\"$\", \"\")\n",
                "        chromo.export_bwt_result(bwt_result) #TODO 2: verify result\n"
            ]
        },
        {
            "cell_type": "code",
            "execution_count": 4,
            "metadata": {},
            "outputs": [
                {
                    "name": "stdout",
                    "output_type": "stream",
                    "text": [
                        "P_fal_chromosome_1\n",
                        "640852\n",
                        "Done !\n",
                        "Exported !\n",
                        "P_fal_chromosome_2\n",
                        "947103\n",
                        "Done !\n",
                        "Exported !\n",
                        "P_fal_chromosome_3\n",
                        "1067972\n",
                        "Done !\n",
                        "Exported !\n",
                        "P_fal_chromosome_4\n",
                        "1200491\n",
                        "Done !\n",
                        "Exported !\n",
                        "P_fal_chromosome_5\n",
                        "1343558\n",
                        "Done !\n",
                        "Exported !\n",
                        "P_fal_chromosome_6\n",
                        "1418243\n",
                        "Done !\n",
                        "Exported !\n",
                        "P_fal_chromosome_7\n",
                        "1445208\n",
                        "Done !\n",
                        "Exported !\n",
                        "P_fal_chromosome_8\n",
                        "1472806\n",
                        "Done !\n",
                        "Exported !\n",
                        "P_fal_chromosome_9\n",
                        "1541736\n",
                        "Done !\n",
                        "Exported !\n",
                        "P_fal_chromosome_10\n",
                        "1687657\n",
                        "Done !\n",
                        "Exported !\n",
                        "P_fal_chromosome_11\n",
                        "2038341\n",
                        "Done !\n",
                        "Exported !\n",
                        "P_fal_chromosome_12\n",
                        "2271495\n",
                        "Done !\n",
                        "Exported !\n",
                        "P_fal_chromosome_13\n",
                        "2925237\n",
                        "Done !\n",
                        "Exported !\n",
                        "P_fal_chromosome_14\n",
                        "3291937\n",
                        "Done !\n",
                        "Exported !\n",
                        "P_fal_chromosome_15\n",
                        "34251\n",
                        "Done !\n",
                        "Exported !\n",
                        "P_fal_chromosome_-1\n",
                        "640852\n",
                        "Done !\n",
                        "Exported !\n",
                        "P_fal_chromosome_-2\n",
                        "947103\n",
                        "Done !\n",
                        "Exported !\n",
                        "P_fal_chromosome_-3\n",
                        "1067972\n",
                        "Done !\n",
                        "Exported !\n",
                        "P_fal_chromosome_-4\n",
                        "1200491\n",
                        "Done !\n",
                        "Exported !\n",
                        "P_fal_chromosome_-5\n",
                        "1343558\n",
                        "Done !\n",
                        "Exported !\n",
                        "P_fal_chromosome_-6\n",
                        "1418243\n",
                        "Done !\n",
                        "Exported !\n",
                        "P_fal_chromosome_-7\n",
                        "1445208\n",
                        "Done !\n",
                        "Exported !\n",
                        "P_fal_chromosome_-8\n",
                        "1472806\n",
                        "Done !\n",
                        "Exported !\n",
                        "P_fal_chromosome_-9\n",
                        "1541736\n",
                        "Done !\n",
                        "Exported !\n",
                        "P_fal_chromosome_-10\n",
                        "1687657\n",
                        "Done !\n",
                        "Exported !\n",
                        "P_fal_chromosome_-11\n",
                        "2038341\n",
                        "Done !\n",
                        "Exported !\n",
                        "P_fal_chromosome_-12\n",
                        "2271495\n",
                        "Done !\n",
                        "Exported !\n",
                        "P_fal_chromosome_-13\n",
                        "2925237\n",
                        "Done !\n",
                        "Exported !\n",
                        "P_fal_chromosome_-14\n",
                        "3291937\n",
                        "Done !\n",
                        "Exported !\n",
                        "P_fal_chromosome_-15\n",
                        "34251\n",
                        "Done !\n",
                        "Exported !\n"
                    ]
                }
            ],
            "source": [
                "for chromo in chromosomes+chromosomes_inv:\n",
                "    print(chromo.file_name)\n",
                "    if chromo.rank_mat is None:\n",
                "        print(len(chromo.bwt))\n",
                "        rank_mat = bwt.create_rank_mat(chromo.bwt)\n",
                "        print(\"Done !\")\n",
                "        chromo.export_rank_matrix_result(rank_mat) \n",
                "        print(\"Exported !\")"
            ]
        },
        {
            "attachments": {},
            "cell_type": "markdown",
            "metadata": {},
            "source": [
                "## Now we calcule all read"
            ]
        },
        {
            "attachments": {},
            "cell_type": "markdown",
            "metadata": {},
            "source": [
                "### *Reads* acquired from a *P.falciparum* genome sequencing \n",
                "In the same way, *reads* are extracted with *Biopython* and stored in a  python list **reads**. All the *reads* have the same length: 100 pairs of bases"
            ]
        },
        {
            "cell_type": "code",
            "execution_count": 5,
            "metadata": {},
            "outputs": [],
            "source": [
                "reads = []\n",
                "\n",
                "for record in SeqIO.parse(\"SEQUENCES/P_fal_reads.fq\", format=\"fastq\"):\n",
                "    reads.append((record.seq, record.id))"
            ]
        },
        {
            "cell_type": "code",
            "execution_count": 6,
            "metadata": {},
            "outputs": [
                {
                    "name": "stdout",
                    "output_type": "stream",
                    "text": [
                        "Number of reads: 1500000\n",
                        "Reads length: 100\n"
                    ]
                }
            ],
            "source": [
                "print(f\"Number of reads: {len(reads)}\")\n",
                "print(f\"Reads length: {len(reads[0][0])}\")"
            ]
        },
        {
            "cell_type": "code",
            "execution_count": 10,
            "metadata": {},
            "outputs": [
                {
                    "name": "stdout",
                    "output_type": "stream",
                    "text": [
                        "         70253426 function calls (66420676 primitive calls) in 45.193 seconds\n",
                        "\n",
                        "   Ordered by: standard name\n",
                        "\n",
                        "   ncalls  tottime  percall  cumtime  percall filename:lineno(function)\n",
                        "        1    0.247    0.247   45.193   45.193 686067663.py:2(test)\n",
                        "    68374    0.127    0.000    0.316    0.000 <__array_function__ internals>:177(copyto)\n",
                        "        1    0.000    0.000   45.193   45.193 <string>:1(<module>)\n",
                        "  3832750    2.139    0.000    2.649    0.000 Seq.py:1683(__init__)\n",
                        "  3944920    3.700    0.000    9.800    0.000 Seq.py:328(__eq__)\n",
                        "  3832750    1.276    0.000    1.886    0.000 Seq.py:406(__len__)\n",
                        "  7665500    6.224    0.000   10.616    0.000 Seq.py:410(__getitem__)\n",
                        "  3944920    1.491    0.000    2.929    0.000 abc.py:117(__instancecheck__)\n",
                        "  7665500    6.352    0.000    6.352    0.000 mapping.py:32(get_first_occ)\n",
                        "    90329   13.775    0.000   44.946    0.000 mapping.py:53(string_search)\n",
                        "    68374    0.023    0.000    0.023    0.000 multiarray.py:1071(copyto)\n",
                        "    68374    0.215    0.000    0.893    0.000 numeric.py:289(full)\n",
                        "  3944920    1.438    0.000    1.438    0.000 {built-in method _abc._abc_instancecheck}\n",
                        "  3832750    0.633    0.000    0.633    0.000 {built-in method builtins.chr}\n",
                        "        1    0.000    0.000   45.193   45.193 {built-in method builtins.exec}\n",
                        " 19388090    3.923    0.000    6.852    0.000 {built-in method builtins.isinstance}\n",
                        "7755829/3923079    2.234    0.000    3.510    0.000 {built-in method builtins.len}\n",
                        "    68374    0.176    0.000    0.176    0.000 {built-in method numpy.asarray}\n",
                        "    68374    0.167    0.000    0.167    0.000 {built-in method numpy.core._multiarray_umath.implement_array_function}\n",
                        "    68374    0.185    0.000    0.185    0.000 {built-in method numpy.empty}\n",
                        "        1    0.000    0.000    0.000    0.000 {method 'disable' of '_lsprof.Profiler' objects}\n",
                        "  3944920    0.867    0.000    0.867    0.000 {method 'encode' of 'str' objects}\n",
                        "\n",
                        "\n"
                    ]
                },
                {
                    "ename": "IndexError",
                    "evalue": "index 640853 is out of bounds for axis 0 with size 640853",
                    "output_type": "error",
                    "traceback": [
                        "\u001b[1;31m---------------------------------------------------------------------------\u001b[0m",
                        "\u001b[1;31mIndexError\u001b[0m                                Traceback (most recent call last)",
                        "\u001b[1;32mc:\\Users\\Yanis.000\\Desktop\\0cours\\4a-s1\\omique2\\genome_mapper\\notebook.ipynb Cell 23\u001b[0m in \u001b[0;36m<cell line: 6>\u001b[1;34m()\u001b[0m\n\u001b[0;32m      <a href='vscode-notebook-cell:/c%3A/Users/Yanis.000/Desktop/0cours/4a-s1/omique2/genome_mapper/notebook.ipynb#X31sZmlsZQ%3D%3D?line=3'>4</a>\u001b[0m         mapping\u001b[39m.\u001b[39mstring_search(chromosomes[\u001b[39m0\u001b[39m]\u001b[39m.\u001b[39mbwt,reads[i][\u001b[39m0\u001b[39m],chromosomes[\u001b[39m0\u001b[39m]\u001b[39m.\u001b[39mrank_mat,chromosomes[\u001b[39m0\u001b[39m]\u001b[39m.\u001b[39msuffix_table)\n\u001b[0;32m      <a href='vscode-notebook-cell:/c%3A/Users/Yanis.000/Desktop/0cours/4a-s1/omique2/genome_mapper/notebook.ipynb#X31sZmlsZQ%3D%3D?line=4'>5</a>\u001b[0m \u001b[39mimport\u001b[39;00m \u001b[39mcProfile\u001b[39;00m\n\u001b[1;32m----> <a href='vscode-notebook-cell:/c%3A/Users/Yanis.000/Desktop/0cours/4a-s1/omique2/genome_mapper/notebook.ipynb#X31sZmlsZQ%3D%3D?line=5'>6</a>\u001b[0m cProfile\u001b[39m.\u001b[39;49mrun(\u001b[39m\"\u001b[39;49m\u001b[39mtest()\u001b[39;49m\u001b[39m\"\u001b[39;49m)\n",
                        "File \u001b[1;32mc:\\Users\\Yanis.000\\AppData\\Local\\Programs\\Python\\Python310\\lib\\cProfile.py:16\u001b[0m, in \u001b[0;36mrun\u001b[1;34m(statement, filename, sort)\u001b[0m\n\u001b[0;32m     15\u001b[0m \u001b[39mdef\u001b[39;00m \u001b[39mrun\u001b[39m(statement, filename\u001b[39m=\u001b[39m\u001b[39mNone\u001b[39;00m, sort\u001b[39m=\u001b[39m\u001b[39m-\u001b[39m\u001b[39m1\u001b[39m):\n\u001b[1;32m---> 16\u001b[0m     \u001b[39mreturn\u001b[39;00m _pyprofile\u001b[39m.\u001b[39;49m_Utils(Profile)\u001b[39m.\u001b[39;49mrun(statement, filename, sort)\n",
                        "File \u001b[1;32mc:\\Users\\Yanis.000\\AppData\\Local\\Programs\\Python\\Python310\\lib\\profile.py:53\u001b[0m, in \u001b[0;36m_Utils.run\u001b[1;34m(self, statement, filename, sort)\u001b[0m\n\u001b[0;32m     51\u001b[0m prof \u001b[39m=\u001b[39m \u001b[39mself\u001b[39m\u001b[39m.\u001b[39mprofiler()\n\u001b[0;32m     52\u001b[0m \u001b[39mtry\u001b[39;00m:\n\u001b[1;32m---> 53\u001b[0m     prof\u001b[39m.\u001b[39;49mrun(statement)\n\u001b[0;32m     54\u001b[0m \u001b[39mexcept\u001b[39;00m \u001b[39mSystemExit\u001b[39;00m:\n\u001b[0;32m     55\u001b[0m     \u001b[39mpass\u001b[39;00m\n",
                        "File \u001b[1;32mc:\\Users\\Yanis.000\\AppData\\Local\\Programs\\Python\\Python310\\lib\\cProfile.py:95\u001b[0m, in \u001b[0;36mProfile.run\u001b[1;34m(self, cmd)\u001b[0m\n\u001b[0;32m     93\u001b[0m \u001b[39mimport\u001b[39;00m \u001b[39m__main__\u001b[39;00m\n\u001b[0;32m     94\u001b[0m \u001b[39mdict\u001b[39m \u001b[39m=\u001b[39m __main__\u001b[39m.\u001b[39m\u001b[39m__dict__\u001b[39m\n\u001b[1;32m---> 95\u001b[0m \u001b[39mreturn\u001b[39;00m \u001b[39mself\u001b[39;49m\u001b[39m.\u001b[39;49mrunctx(cmd, \u001b[39mdict\u001b[39;49m, \u001b[39mdict\u001b[39;49m)\n",
                        "File \u001b[1;32mc:\\Users\\Yanis.000\\AppData\\Local\\Programs\\Python\\Python310\\lib\\cProfile.py:100\u001b[0m, in \u001b[0;36mProfile.runctx\u001b[1;34m(self, cmd, globals, locals)\u001b[0m\n\u001b[0;32m     98\u001b[0m \u001b[39mself\u001b[39m\u001b[39m.\u001b[39menable()\n\u001b[0;32m     99\u001b[0m \u001b[39mtry\u001b[39;00m:\n\u001b[1;32m--> 100\u001b[0m     exec(cmd, \u001b[39mglobals\u001b[39;49m, \u001b[39mlocals\u001b[39;49m)\n\u001b[0;32m    101\u001b[0m \u001b[39mfinally\u001b[39;00m:\n\u001b[0;32m    102\u001b[0m     \u001b[39mself\u001b[39m\u001b[39m.\u001b[39mdisable()\n",
                        "File \u001b[1;32m<string>:1\u001b[0m, in \u001b[0;36m<module>\u001b[1;34m\u001b[0m\n",
                        "\u001b[1;32mc:\\Users\\Yanis.000\\Desktop\\0cours\\4a-s1\\omique2\\genome_mapper\\notebook.ipynb Cell 23\u001b[0m in \u001b[0;36mtest\u001b[1;34m()\u001b[0m\n\u001b[0;32m      <a href='vscode-notebook-cell:/c%3A/Users/Yanis.000/Desktop/0cours/4a-s1/omique2/genome_mapper/notebook.ipynb#X31sZmlsZQ%3D%3D?line=1'>2</a>\u001b[0m \u001b[39mdef\u001b[39;00m \u001b[39mtest\u001b[39m():\n\u001b[0;32m      <a href='vscode-notebook-cell:/c%3A/Users/Yanis.000/Desktop/0cours/4a-s1/omique2/genome_mapper/notebook.ipynb#X31sZmlsZQ%3D%3D?line=2'>3</a>\u001b[0m     \u001b[39mfor\u001b[39;00m i \u001b[39min\u001b[39;00m \u001b[39mrange\u001b[39m(\u001b[39m1500000\u001b[39m):\n\u001b[1;32m----> <a href='vscode-notebook-cell:/c%3A/Users/Yanis.000/Desktop/0cours/4a-s1/omique2/genome_mapper/notebook.ipynb#X31sZmlsZQ%3D%3D?line=3'>4</a>\u001b[0m         mapping\u001b[39m.\u001b[39;49mstring_search(chromosomes[\u001b[39m0\u001b[39;49m]\u001b[39m.\u001b[39;49mbwt,reads[i][\u001b[39m0\u001b[39;49m],chromosomes[\u001b[39m0\u001b[39;49m]\u001b[39m.\u001b[39;49mrank_mat,chromosomes[\u001b[39m0\u001b[39;49m]\u001b[39m.\u001b[39;49msuffix_table)\n",
                        "File \u001b[1;32mc:\\Users\\Yanis.000\\Desktop\\0cours\\4a-s1\\omique2\\genome_mapper\\mapping.py:65\u001b[0m, in \u001b[0;36mstring_search\u001b[1;34m(bwt_, read, rank_mat, st)\u001b[0m\n\u001b[0;32m     60\u001b[0m \u001b[39m# print(\"top : \", top)\u001b[39;00m\n\u001b[0;32m     61\u001b[0m \u001b[39m# print(get_first_occ(rank_mat, base))\u001b[39;00m\n\u001b[0;32m     62\u001b[0m \u001b[39m# print(rank_mat[base][bottom])\u001b[39;00m\n\u001b[0;32m     63\u001b[0m \u001b[39mif\u001b[39;00m top \u001b[39m<\u001b[39m bottom:\n\u001b[0;32m     64\u001b[0m     bottom \u001b[39m=\u001b[39m (\n\u001b[1;32m---> 65\u001b[0m         get_first_occ(rank_mat, base) \u001b[39m+\u001b[39m rank_mat[base][bottom \u001b[39m+\u001b[39;49m \u001b[39m1\u001b[39;49m] \u001b[39m-\u001b[39m \u001b[39m1\u001b[39m\n\u001b[0;32m     66\u001b[0m     )  \u001b[39m# Because it will count 2times the first\u001b[39;00m\n\u001b[0;32m     67\u001b[0m \u001b[39melse\u001b[39;00m:\n\u001b[0;32m     68\u001b[0m     bottom \u001b[39m=\u001b[39m get_first_occ(rank_mat, base) \u001b[39m+\u001b[39m rank_mat[base][bottom]\n",
                        "\u001b[1;31mIndexError\u001b[0m: index 640853 is out of bounds for axis 0 with size 640853"
                    ]
                }
            ],
            "source": [
                "import mapping\n",
                "def test():\n",
                "    for i in range(1500000):\n",
                "        mapping.string_search(chromosomes[0].bwt,reads[i][0],chromosomes[0].rank_mat,chromosomes[0].suffix_table)\n",
                "import cProfile\n",
                "cProfile.run(\"test()\")"
            ]
        }
    ],
    "metadata": {
        "kernelspec": {
            "display_name": "Python 3",
            "language": "python",
            "name": "python3"
        },
        "language_info": {
            "codemirror_mode": {
                "name": "ipython",
                "version": 3
            },
            "file_extension": ".py",
            "mimetype": "text/x-python",
            "name": "python",
            "nbconvert_exporter": "python",
            "pygments_lexer": "ipython3",
            "version": "3.10.3"
        },
        "orig_nbformat": 4,
        "vscode": {
            "interpreter": {
                "hash": "9c6950969c84b67edea1a7d8f4ef0483805b2f2e9e6113a3880292c4ff65adf5"
            }
        }
    },
    "nbformat": 4,
    "nbformat_minor": 2
}
