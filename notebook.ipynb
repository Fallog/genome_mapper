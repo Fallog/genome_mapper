{
 "cells": [
  {
   "cell_type": "markdown",
   "metadata": {},
   "source": [
    "# Genomics Algorithmics project\n",
    "\n",
    "## Development of a mapping solution over a reference genome for sequencing datas  \n",
    "\n",
    "### Nicolas Parisot & Sergio Peignier"
   ]
  },
  {
   "cell_type": "markdown",
   "metadata": {},
   "source": [
    "## Reading sequencing datas with *Biopython* package\n",
    "\n",
    "### Complete genome, chromosome by chromosome, of *Plasmodium falciparum*\n",
    "\n",
    "With *Biopython*, each of the 15 *Plasmodium falciparum* chromosomes is stored in a python list under the form of a string. The python list is named **chromosomes**. Mapping operations will be realised on these chromosomes."
   ]
  },
  {
   "cell_type": "code",
   "execution_count": 1,
   "metadata": {},
   "outputs": [
    {
     "name": "stdout",
     "output_type": "stream",
     "text": [
      "[(Seq('TGAACCCTaaaacctaaaccctaaaccctaaaccctgaaccctaaaccctgaac...agg'), 'NC_004325.2'), (Seq('aaccctaaaccctaaaccctaaaccctaaaccctaaaccctaaacctaaaccct...TCA'), 'NC_037280.1'), (Seq('TAAACCCTAAATCTCTAAACCCTAAAGCTATACCTAAACCCTGAAGGTTATACC...TCA'), 'NC_000521.4'), (Seq('aaccctaaaccctgaaccctaaaccctaaaccctgaaccctgaaccctaaaccc...tta'), 'NC_004318.2'), (Seq('ctaaaccctgaaccctaaaccctgaaccctaaaccctaaaccctgaaccctaaa...ggt'), 'NC_004326.2'), (Seq('taaaccctaaaccctgaacctaaccctgaaccctaaaccctgaaccctaaaccc...tca'), 'NC_004327.3'), (Seq('aaaccctaaaccctgaaccctgaaccctaaaccctgaaccctaaaccctgaacc...tca'), 'NC_004328.3'), (Seq('aacctaaaccctaaaccctaaaccctgaaccctaaaccctaaaccctgaaccct...agg'), 'NC_004329.3'), (Seq('aaccctgaaccctaaaccctaaaccctaaaccctgaaccctaaaccctaaaccc...gtt'), 'NC_004330.2'), (Seq('taaaccctgaaccctaaaccctgaaccctaaaccactaaccctaaaccctgaac...GTT'), 'NC_037281.1'), (Seq('aaccctaaaccctgaaccctgaaccctgaaccctgaaccctaaaccctgaaccc...TAG'), 'NC_037282.1'), (Seq('ctgaaccctaaaccctaaaccctaaacctaaaccctgaaccctaaaccctaaac...GTA'), 'NC_037284.1'), (Seq('taaaccctgaaccctaaaccctgaaccctaaaccctaaaccctaaacctaaacc...gtt'), 'NC_004331.3'), (Seq('tgaaccctaaaccctaaaccctaaaccctaaacccctaaaccctaaaccctgaa...gtt'), 'NC_037283.1'), (Seq('ATGATAAAATTTTTAAAACCTAAAATAAAAATATTAAAAAAATTAAATATACCT...ATT'), 'NC_036769.1')]\n"
     ]
    }
   ],
   "source": [
    "from Bio import SeqIO\n",
    "\n",
    "chromosomes = []\n",
    "\n",
    "for record in SeqIO.parse(\"SEQUENCES/P_fal_genome.fna\", format=\"fasta\"):\n",
    "    chromosomes.append((record.seq, record.id))"
   ]
  },
  {
   "cell_type": "markdown",
   "metadata": {},
   "source": [
    "Number and lengths of the chromosomes are given here:"
   ]
  },
  {
   "cell_type": "code",
   "execution_count": 2,
   "metadata": {},
   "outputs": [
    {
     "name": "stdout",
     "output_type": "stream",
     "text": [
      "Chromosomes number: 15\n",
      "Chromosomes length, from 1 to 15:\n",
      "Length of the  1 chromosome: 640851  pairs of bases\n",
      "Length of the  2 chromosome: 947102  pairs of bases\n",
      "Length of the  3 chromosome: 1067971 pairs of bases\n",
      "Length of the  4 chromosome: 1200490 pairs of bases\n",
      "Length of the  5 chromosome: 1343557 pairs of bases\n",
      "Length of the  6 chromosome: 1418242 pairs of bases\n",
      "Length of the  7 chromosome: 1445207 pairs of bases\n",
      "Length of the  8 chromosome: 1472805 pairs of bases\n",
      "Length of the  9 chromosome: 1541735 pairs of bases\n",
      "Length of the 10 chromosome: 1687656 pairs of bases\n",
      "Length of the 11 chromosome: 2038340 pairs of bases\n",
      "Length of the 12 chromosome: 2271494 pairs of bases\n",
      "Length of the 13 chromosome: 2925236 pairs of bases\n",
      "Length of the 14 chromosome: 3291936 pairs of bases\n",
      "Length of the 15 chromosome: 34250   pairs of bases\n"
     ]
    }
   ],
   "source": [
    "print(f\"Chromosomes number: {len(chromosomes)}\")\n",
    "print(\"Chromosomes length, from 1 to 15:\")\n",
    "i = 1\n",
    "for chromo in chromosomes:\n",
    "    print(f\"Length of the {i:>2} chromosome: {len(chromo[0]):<7} pairs of bases\")\n",
    "    i += 1"
   ]
  },
  {
   "cell_type": "markdown",
   "metadata": {},
   "source": [
    "### *Reads* acquired from a *P.falciparum* genome sequencing \n",
    "In the same way, *reads* are extracted with *Biopython* and stored in a  python list **reads**. All the *reads* have the same length: 100 pairs of bases"
   ]
  },
  {
   "cell_type": "code",
   "execution_count": 3,
   "metadata": {},
   "outputs": [],
   "source": [
    "reads = []\n",
    "\n",
    "for record in SeqIO.parse(\"SEQUENCES/P_fal_reads.fq\", format=\"fastq\"):\n",
    "    reads.append((record.seq, record.id))"
   ]
  },
  {
   "cell_type": "code",
   "execution_count": 4,
   "metadata": {},
   "outputs": [
    {
     "name": "stdout",
     "output_type": "stream",
     "text": [
      "Number of reads: 1500000\n",
      "Reads length: 100\n"
     ]
    }
   ],
   "source": [
    "print(f\"Number of reads: {len(reads)}\")\n",
    "print(f\"Reads length: {len(reads[0][0])}\")"
   ]
  },
  {
   "cell_type": "markdown",
   "metadata": {},
   "source": [
    "As we can see, the high-throughput sequencing generated 1.5 million *reads*, each 100 nucleotides in size. To sharpen the mapping, the reads will be divided into even smaller fragments, called **kmer**. "
   ]
  },
  {
   "cell_type": "code",
   "execution_count": null,
   "metadata": {},
   "outputs": [],
   "source": []
  },
  {
   "cell_type": "markdown",
   "metadata": {},
   "source": [
    "_____________________"
   ]
  },
  {
   "cell_type": "markdown",
   "metadata": {},
   "source": [
    "# DC3 on genome"
   ]
  },
  {
   "cell_type": "markdown",
   "metadata": {},
   "source": [
    "To store all DC3 result, the following comands.\n",
    "Stored in .npy, one of the best way of storage for list (https://stackoverflow.com/questions/9619199/best-way-to-preserve-numpy-arrays-on-disk)"
   ]
  },
  {
   "cell_type": "code",
   "execution_count": 10,
   "metadata": {},
   "outputs": [],
   "source": [
    "from y_dc3 import dc3\n",
    "import Chromosome\n",
    "\n",
    "for i, chr in enumerate(chromosomes):\n",
    "    name = f\"P_fal_chromosome_{i+1}\"\n",
    "    file = Chromosome.Chromosome(name)\n",
    "    file.export_dc3_result(list(dc3(chr))) # List(numpy) pour régler mais bon \n"
   ]
  }
 ],
 "metadata": {
  "kernelspec": {
   "display_name": "Python 3.10.6 64-bit",
   "language": "python",
   "name": "python3"
  },
  "language_info": {
   "codemirror_mode": {
    "name": "ipython",
    "version": 3
   },
   "file_extension": ".py",
   "mimetype": "text/x-python",
   "name": "python",
   "nbconvert_exporter": "python",
   "pygments_lexer": "ipython3",
   "version": "3.10.6 (main, Nov  2 2022, 18:53:38) [GCC 11.3.0]"
  },
  "orig_nbformat": 4,
  "vscode": {
   "interpreter": {
    "hash": "916dbcbb3f70747c44a77c7bcd40155683ae19c65e1c03b4aa3499c5328201f1"
   }
  }
 },
 "nbformat": 4,
 "nbformat_minor": 2
}
