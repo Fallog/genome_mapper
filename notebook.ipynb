{
    "cells": [
        {
            "cell_type": "markdown",
            "metadata": {},
            "source": [
                "# Genomics Algorithmics project\n",
                "\n",
                "## Development of a mapping solution over a reference genome for sequencing datas  \n",
                "\n",
                "### Nicolas Parisot & Sergio Peignier"
            ]
        },
        {
            "attachments": {},
            "cell_type": "markdown",
            "metadata": {},
            "source": [
                "## Reading sequencing datas with *Biopython* package\n",
                "\n",
                "### Genome and inversed genome of *Plasmodium falciparum*\n",
                "\n",
                "With *Biopython*, each of the 15 *Plasmodium falciparum* chromosomes is stored in a python list under the form of a string. The python list is named **chromosomes**. Mapping operations will be realised on these chromosomes."
            ]
        },
        {
            "cell_type": "code",
            "execution_count": 1,
            "metadata": {},
            "outputs": [],
            "source": [
                "from Bio import SeqIO\n",
                "from tqdm import tqdm\n",
                "from Chromosome import Chromosome\n",
                "from dc3 import dc3\n",
                "import bwt\n",
                "import tools\n",
                "import mapping"
            ]
        },
        {
            "cell_type": "code",
            "execution_count": 2,
            "metadata": {},
            "outputs": [
                {
                    "name": "stderr",
                    "output_type": "stream",
                    "text": [
                        "Chromosomes importation: 100%|██████████| 30/30 [00:10<00:00,  2.88it/s]\n"
                    ]
                }
            ],
            "source": [
                "chromosomes:list[Chromosome] = []\n",
                "chromosomes_inv:list[Chromosome] = []\n",
                "\n",
                "with tqdm(total=30, desc=\"Chromosomes importation\") as pbar:\n",
                "    for i,record in enumerate(SeqIO.parse(\"SEQUENCES/P_fal_genome.fna\", format=\"fasta\")):\n",
                "        # Normal chromosomes\n",
                "        name = f\"P_fal_chromosome_{i+1}\"\n",
                "        chromo = Chromosome(name,record.seq,record.id)\n",
                "        chromosomes.append(chromo)\n",
                "        pbar.update(1)\n",
                "        \n",
                "        # Inversed chromosomes\n",
                "        name_inversed_comp = f\"P_fal_chromosome_-{i+1}\"\n",
                "        inversed_comp_seq = tools.inverse_sequence(record.seq)\n",
                "        chromo_inv = Chromosome(name_inversed_comp,inversed_comp_seq,record.id)\n",
                "        chromosomes_inv.append(chromo_inv)\n",
                "        pbar.update(1)"
            ]
        },
        {
            "cell_type": "markdown",
            "metadata": {},
            "source": [
                "Number and lengths of the chromosomes are given here:"
            ]
        },
        {
            "cell_type": "code",
            "execution_count": null,
            "metadata": {},
            "outputs": [],
            "source": [
                "print(f\"Chromosomes number: {len(chromosomes)}\")\n",
                "print(\"Chromosomes length, from 1 to 15:\")\n",
                "for i, chromo in enumerate(chromosomes):\n",
                "    i += 1\n",
                "    print(f\"Length of the chromosome {i:>2} : {len(chromo.DNA_dol):<7} pairs of bases\")\n",
                "for i, chromo in enumerate(chromosomes_inv):\n",
                "    i += 1\n",
                "    print(f\"Length of the chromosome -{i:>2} : {len(chromo.DNA_dol):<7} pairs of bases\")"
            ]
        },
        {
            "attachments": {},
            "cell_type": "markdown",
            "metadata": {},
            "source": [
                "The objectives of this project is to perform a **mapping** of short DNA sequences (1500000 of 100 nucleotides long) over all the chromosomes we just imported. In other words, we need to find their localisation.\n",
                "\n",
                "Due to the length of the genome and the number of read to map, this problem can't be done with \"naive\" methods. Instead, we use a **string-search** algorithm, based on the Burrows Wheeler Transform (BWT) (Sources: https://www.molgen.mpg.de/3708260/bwt_fm.pdf). The read are mapped over the BWT of all the chromosomes. To that extend, we need to compute the BWT of very large strings which can be very time consuming. The **DC3 algorithm** allows us to compute very efficiently suffix array of strings and the we use it to compute the BWT."
            ]
        },
        {
            "cell_type": "markdown",
            "metadata": {},
            "source": [
                "_____________________"
            ]
        },
        {
            "cell_type": "markdown",
            "metadata": {},
            "source": [
                "# DC3 on genome"
            ]
        },
        {
            "attachments": {},
            "cell_type": "markdown",
            "metadata": {},
            "source": [
                "The following lines of code are used to import the suffix table computed from the DC3 algorithm\n",
                "\n",
                "To store all DC3 result, the following comands.\n",
                "Stored in .npy, one of the best way of storage for list (https://stackoverflow.com/questions/9619199/best-way-to-preserve-numpy-arrays-on-disk)"
            ]
        },
        {
            "cell_type": "code",
            "execution_count": 3,
            "metadata": {},
            "outputs": [
                {
                    "name": "stdout",
                    "output_type": "stream",
                    "text": [
                        "P_fal_chromosome_1\n",
                        "P_fal_chromosome_2\n",
                        "P_fal_chromosome_3\n",
                        "P_fal_chromosome_4\n",
                        "P_fal_chromosome_5\n",
                        "P_fal_chromosome_6\n",
                        "P_fal_chromosome_7\n",
                        "P_fal_chromosome_8\n",
                        "P_fal_chromosome_9\n",
                        "P_fal_chromosome_10\n",
                        "P_fal_chromosome_11\n",
                        "P_fal_chromosome_12\n",
                        "P_fal_chromosome_13\n",
                        "P_fal_chromosome_14\n",
                        "P_fal_chromosome_15\n",
                        "P_fal_chromosome_-1\n",
                        "P_fal_chromosome_-2\n",
                        "P_fal_chromosome_-3\n",
                        "P_fal_chromosome_-4\n",
                        "P_fal_chromosome_-5\n",
                        "P_fal_chromosome_-6\n",
                        "P_fal_chromosome_-7\n",
                        "P_fal_chromosome_-8\n",
                        "P_fal_chromosome_-9\n",
                        "P_fal_chromosome_-10\n",
                        "P_fal_chromosome_-11\n",
                        "P_fal_chromosome_-12\n",
                        "P_fal_chromosome_-13\n",
                        "P_fal_chromosome_-14\n",
                        "P_fal_chromosome_-15\n"
                    ]
                }
            ],
            "source": [
                "for chromo in chromosomes+chromosomes_inv:\n",
                "    print(chromo.file_name)\n",
                "    if chromo.suffix_table is None:\n",
                "        dc3result = dc3(chromo.DNA_dol)\n",
                "        chromo.export_dc3_result(dc3result)"
            ]
        },
        {
            "attachments": {},
            "cell_type": "markdown",
            "metadata": {},
            "source": [
                "This chunk creates (or imports) the BWT transform of every chromosomes"
            ]
        },
        {
            "cell_type": "code",
            "execution_count": null,
            "metadata": {},
            "outputs": [],
            "source": [
                "for chromo in chromosomes+chromosomes_inv:\n",
                "    print(chromo.file_name)\n",
                "    if chromo.bwt is None:\n",
                "        bwt_result = bwt.bwt(str(chromo.DNA_dol),chromo.suffix_table)\n",
                "        bwt_result = bwt_result.replace(\"$\", \"\")\n",
                "        chromo.export_bwt_result(bwt_result)\n"
            ]
        },
        {
            "attachments": {},
            "cell_type": "markdown",
            "metadata": {},
            "source": [
                "Next we compute or import the rank matrix of each chromosome. Rank matrices are large python dictionnaries storing for a chromosome, the rank array of each of its four nucleotides \"A\", \"C\", \"G\", \"T\" and for the end of string character \"$\".<p>\n",
                "Rank matrices are very useful for our *string_search* function in the mapping module. They allow us to localise substrings with $O(1)$ complexity (again the source: https://www.molgen.mpg.de/3708260/bwt_fm.pdf)."
            ]
        },
        {
            "cell_type": "code",
            "execution_count": null,
            "metadata": {},
            "outputs": [],
            "source": [
                "for chromo in chromosomes+chromosomes_inv:\n",
                "    print(chromo.file_name)\n",
                "    if chromo.rank_mat is None:\n",
                "        print(len(chromo.bwt))\n",
                "        rank_mat = bwt.create_rank_mat(chromo.bwt)\n",
                "        print(\"Done !\")\n",
                "        chromo.export_rank_matrix_result(rank_mat) \n",
                "        print(\"Exported !\")"
            ]
        },
        {
            "cell_type": "code",
            "execution_count": null,
            "metadata": {},
            "outputs": [],
            "source": [
                "print(len(chromosomes[0].DNA_dol))\n",
                "print(len(chromosomes[0].rank_mat[\"A\"]))\n",
                "print(len(chromosomes[0].rank_mat[\"$\"]))\n",
                "print(len(chromosomes[0].rank_mat[\"C\"]))\n",
                "print(len(chromosomes[0].rank_mat[\"G\"]))\n",
                "print(len(chromosomes[0].rank_mat[\"T\"]))\n"
            ]
        },
        {
            "attachments": {},
            "cell_type": "markdown",
            "metadata": {},
            "source": [
                "## Now we calcule all read"
            ]
        },
        {
            "attachments": {},
            "cell_type": "markdown",
            "metadata": {},
            "source": [
                "### *Reads* acquired from a *P.falciparum* genome sequencing \n",
                "In the same way, *reads* are extracted with *Biopython* and stored in a  python list **reads**. All the *reads* have the same length: 100 pairs of bases"
            ]
        },
        {
            "cell_type": "code",
            "execution_count": 4,
            "metadata": {},
            "outputs": [
                {
                    "name": "stderr",
                    "output_type": "stream",
                    "text": [
                        "1500000it [00:21, 69896.98it/s]██▉| 1498157/1500000 [00:21<00:00, 81319.35it/s]\n",
                        "Reads importation: 100%|██████████| 1500000/1500000 [00:21<00:00, 69870.94it/s]\n"
                    ]
                }
            ],
            "source": [
                "reads = []\n",
                "with tqdm(total=1500000, desc=\"Reads importation\") as pbar:\n",
                "    for record in tqdm(SeqIO.parse(\"SEQUENCES/P_fal_reads.fq\", format=\"fastq\")):\n",
                "        reads.append((record.seq, record.id))\n",
                "        pbar.update(1)"
            ]
        },
        {
            "cell_type": "code",
            "execution_count": null,
            "metadata": {},
            "outputs": [],
            "source": [
                "print(f\"Number of reads: {len(reads)}\")\n",
                "print(f\"Reads length: {len(reads[0][0])}\")"
            ]
        },
        {
            "cell_type": "code",
            "execution_count": 6,
            "metadata": {},
            "outputs": [
                {
                    "name": "stderr",
                    "output_type": "stream",
                    "text": [
                        "Reads importation:  13%|█▎        | 199929/1500000 [00:43<04:42, 4599.55it/s]\n"
                    ]
                },
                {
                    "name": "stdout",
                    "output_type": "stream",
                    "text": [
                        "         66451153 function calls (62966892 primitive calls) in 43.471 seconds\n",
                        "\n",
                        "   Ordered by: standard name\n",
                        "\n",
                        "   ncalls  tottime  percall  cumtime  percall filename:lineno(function)\n",
                        "        1    0.499    0.499   43.471   43.471 1748867974.py:2(test)\n",
                        "   112022    0.167    0.000    1.265    0.000 <__array_function__ internals>:177(sort)\n",
                        "  3752669    1.498    0.000    2.454    0.000 <frozen abc>:117(__instancecheck__)\n",
                        "        1    0.000    0.000    0.000    0.000 <frozen importlib._bootstrap>:1209(_handle_fromlist)\n",
                        "        1    0.000    0.000   43.471   43.471 <string>:1(<module>)\n",
                        "  3644205    2.083    0.000    2.585    0.000 Seq.py:1683(__init__)\n",
                        "  3752669    4.033    0.000    9.455    0.000 Seq.py:328(__eq__)\n",
                        "  3484261    1.431    0.000    1.889    0.000 Seq.py:406(__len__)\n",
                        "  7088480    6.201    0.000   10.365    0.000 Seq.py:410(__getitem__)\n",
                        "        1    0.000    0.000    0.000    0.000 __init__.py:48(create_string_buffer)\n",
                        "        1    0.000    0.000    0.000    0.000 _monitor.py:94(report)\n",
                        "        1    0.000    0.000    0.000    0.000 _weakrefset.py:110(remove)\n",
                        "        2    0.000    0.000    0.000    0.000 _weakrefset.py:17(__init__)\n",
                        "        2    0.000    0.000    0.000    0.000 _weakrefset.py:21(__enter__)\n",
                        "        2    0.000    0.000    0.000    0.000 _weakrefset.py:27(__exit__)\n",
                        "        2    0.000    0.000    0.000    0.000 _weakrefset.py:53(_commit_removals)\n",
                        "        3    0.000    0.000    0.000    0.000 _weakrefset.py:63(__iter__)\n",
                        "        1    0.000    0.000    0.000    0.000 _weakrefset.py:85(add)\n",
                        "   112022    0.028    0.000    0.028    0.000 fromnumeric.py:848(_sort_dispatcher)\n",
                        "   112022    0.169    0.000    0.955    0.000 fromnumeric.py:852(sort)\n",
                        "     1253    0.007    0.000    0.128    0.000 iostream.py:202(schedule)\n",
                        "      418    0.001    0.000    0.001    0.000 iostream.py:437(_is_master_process)\n",
                        "      418    0.001    0.000    0.107    0.000 iostream.py:456(_schedule_flush)\n",
                        "      418    0.005    0.000    0.297    0.001 iostream.py:471(flush)\n",
                        "      418    0.005    0.000    0.115    0.000 iostream.py:526(write)\n",
                        "     1253    0.002    0.000    0.002    0.000 iostream.py:90(_event_pipe)\n",
                        "    39986    0.120    0.000    0.500    0.000 mapping.py:100(<listcomp>)\n",
                        "  6888550    5.030    0.000    5.030    0.000 mapping.py:28(get_first_occ)\n",
                        "   199930   12.303    0.000   41.536    0.000 mapping.py:52(string_search)\n",
                        "    39986    0.099    0.000    0.645    0.000 mapping.py:88(cut_read_to_kmer)\n",
                        "     1253    0.112    0.000    0.112    0.000 socket.py:545(send)\n",
                        "      419    0.002    0.000    0.004    0.000 std.py:104(acquire)\n",
                        "      419    0.003    0.000    0.004    0.000 std.py:108(release)\n",
                        "        4    0.000    0.000    0.000    0.000 std.py:112(__enter__)\n",
                        "        1    0.000    0.000    0.000    0.000 std.py:1149(__enter__)\n",
                        "        4    0.000    0.000    0.000    0.000 std.py:115(__exit__)\n",
                        "        1    0.000    0.000    0.001    0.001 std.py:1152(__exit__)\n",
                        "      416    0.003    0.000    0.053    0.000 std.py:1164(__str__)\n",
                        "        2    0.000    0.000    0.000    0.000 std.py:1167(_comparable)\n",
                        "        2    0.000    0.000    0.000    0.000 std.py:1171(__hash__)\n",
                        "   199929    0.262    0.000    0.787    0.000 std.py:1212(update)\n",
                        "        1    0.000    0.000    0.001    0.001 std.py:1279(close)\n",
                        "        2    0.000    0.000    0.000    0.000 std.py:1300(fp_write)\n",
                        "        1    0.000    0.000    0.000    0.000 std.py:1315(<lambda>)\n",
                        "      415    0.004    0.000    0.517    0.001 std.py:1339(refresh)\n",
                        "      416    0.004    0.000    0.005    0.000 std.py:1460(format_dict)\n",
                        "      416    0.003    0.000    0.506    0.001 std.py:1478(display)\n",
                        "      416    0.002    0.000    0.002    0.000 std.py:155(__init__)\n",
                        "      416    0.000    0.000    0.000    0.000 std.py:165(colour)\n",
                        "      416    0.000    0.000    0.000    0.000 std.py:169(colour)\n",
                        "      416    0.002    0.000    0.003    0.000 std.py:188(__format__)\n",
                        "        3    0.000    0.000    0.000    0.000 std.py:228(__init__)\n",
                        "     2485    0.007    0.000    0.007    0.000 std.py:233(__call__)\n",
                        "      831    0.003    0.000    0.006    0.000 std.py:288(format_interval)\n",
                        "        1    0.000    0.000    0.001    0.001 std.py:329(status_printer)\n",
                        "      416    0.002    0.000    0.416    0.001 std.py:342(fp_write)\n",
                        "      416    0.003    0.000    0.450    0.001 std.py:348(print_status)\n",
                        "      416    0.019    0.000    0.045    0.000 std.py:355(format_meter)\n",
                        "        1    0.000    0.000    0.000    0.000 std.py:560(__new__)\n",
                        "        1    0.000    0.000    0.000    0.000 std.py:576(_get_free_pos)\n",
                        "        1    0.000    0.000    0.000    0.000 std.py:579(<setcomp>)\n",
                        "        1    0.000    0.000    0.000    0.000 std.py:583(_decr_instances)\n",
                        "        1    0.000    0.000    0.000    0.000 std.py:657(get_lock)\n",
                        "        1    0.000    0.000    0.003    0.003 std.py:846(__init__)\n",
                        "     1671    0.002    0.000    0.003    0.000 threading.py:1118(_wait_for_tstate_lock)\n",
                        "      836    0.001    0.000    0.001    0.000 threading.py:1161(ident)\n",
                        "     1671    0.004    0.000    0.008    0.000 threading.py:1185(is_alive)\n",
                        "      418    0.001    0.000    0.001    0.000 threading.py:1446(current_thread)\n",
                        "      418    0.005    0.000    0.005    0.000 threading.py:236(__init__)\n",
                        "      418    0.000    0.000    0.001    0.000 threading.py:264(__enter__)\n",
                        "      418    0.001    0.000    0.001    0.000 threading.py:267(__exit__)\n",
                        "      418    0.000    0.000    0.000    0.000 threading.py:273(_release_save)\n",
                        "      418    0.001    0.000    0.002    0.000 threading.py:276(_acquire_restore)\n",
                        "      418    0.000    0.000    0.001    0.000 threading.py:279(_is_owned)\n",
                        "      418    0.004    0.000    0.252    0.001 threading.py:288(wait)\n",
                        "      418    0.001    0.000    0.009    0.000 threading.py:555(__init__)\n",
                        "     1672    0.001    0.000    0.001    0.000 threading.py:568(is_set)\n",
                        "      418    0.005    0.000    0.258    0.001 threading.py:604(wait)\n",
                        "        3    0.000    0.000    0.000    0.000 utils.py:101(wrapper_setattr)\n",
                        "        1    0.000    0.000    0.000    0.000 utils.py:105(__init__)\n",
                        "        2    0.000    0.000    0.000    0.000 utils.py:136(disable_on_exception)\n",
                        "      834    0.003    0.000    0.414    0.000 utils.py:143(inner)\n",
                        "        1    0.000    0.000    0.000    0.000 utils.py:162(__init__)\n",
                        "        4    0.000    0.000    0.000    0.000 utils.py:171(__eq__)\n",
                        "        1    0.000    0.000    0.000    0.000 utils.py:201(_is_utf)\n",
                        "        1    0.000    0.000    0.000    0.000 utils.py:215(_supports_unicode)\n",
                        "      832    0.005    0.000    0.006    0.000 utils.py:222(_is_ascii)\n",
                        "        1    0.000    0.000    0.000    0.000 utils.py:231(_screen_shape_wrapper)\n",
                        "        1    0.000    0.000    0.000    0.000 utils.py:246(_screen_shape_windows)\n",
                        "      416    0.001    0.000    0.029    0.000 utils.py:329(_text_width)\n",
                        "    32186    0.015    0.000    0.021    0.000 utils.py:330(<genexpr>)\n",
                        "      416    0.001    0.000    0.032    0.000 utils.py:333(disp_len)\n",
                        "      416    0.000    0.000    0.000    0.000 utils.py:57(__init__)\n",
                        "      416    0.000    0.000    0.000    0.000 utils.py:61(__format__)\n",
                        "        1    0.000    0.000    0.000    0.000 utils.py:74(__eq__)\n",
                        "        1    0.000    0.000    0.000    0.000 utils.py:88(__getattr__)\n",
                        "        1    0.000    0.000    0.000    0.000 {built-in method __new__ of type object at 0x00007FFE816F8F90}\n",
                        "  3752669    0.957    0.000    0.957    0.000 {built-in method _abc._abc_instancecheck}\n",
                        "      836    0.003    0.000    0.003    0.000 {built-in method _thread.allocate_lock}\n",
                        "      418    0.000    0.000    0.000    0.000 {built-in method _thread.get_ident}\n",
                        "        2    0.000    0.000    0.000    0.000 {built-in method _weakref.proxy}\n",
                        "      418    0.000    0.000    0.000    0.000 {built-in method builtins.abs}\n",
                        "  3444275    0.499    0.000    0.499    0.000 {built-in method builtins.chr}\n",
                        "     2078    0.001    0.000    0.001    0.000 {built-in method builtins.divmod}\n",
                        "        1    0.000    0.000   43.471   43.471 {built-in method builtins.exec}\n",
                        "       11    0.000    0.000    0.000    0.000 {built-in method builtins.getattr}\n",
                        "      838    0.000    0.000    0.000    0.000 {built-in method builtins.hasattr}\n",
                        "        2    0.000    0.000    0.000    0.000 {built-in method builtins.id}\n",
                        " 18239277    3.872    0.000    6.326    0.000 {built-in method builtins.isinstance}\n",
                        "7169287/3685026    1.945    0.000    3.376    0.000 {built-in method builtins.len}\n",
                        "      416    0.000    0.000    0.000    0.000 {built-in method builtins.max}\n",
                        "        1    0.000    0.000    0.000    0.000 {built-in method builtins.min}\n",
                        "     8736    0.001    0.000    0.001    0.000 {built-in method builtins.ord}\n",
                        "      416    0.006    0.000    0.028    0.000 {built-in method builtins.sum}\n",
                        "      415    0.002    0.000    0.002    0.000 {built-in method now}\n",
                        "      418    0.001    0.000    0.001    0.000 {built-in method nt.getpid}\n",
                        "    87908    0.169    0.000    0.169    0.000 {built-in method numpy.array}\n",
                        "   112022    0.026    0.000    0.026    0.000 {built-in method numpy.asanyarray}\n",
                        "   112022    0.116    0.000    1.070    0.000 {built-in method numpy.core._multiarray_umath.implement_array_function}\n",
                        "        1    0.000    0.000    0.000    0.000 {built-in method sys.audit}\n",
                        "    10753    0.003    0.000    0.003    0.000 {built-in method time.time}\n",
                        "    31770    0.006    0.000    0.006    0.000 {built-in method unicodedata.east_asian_width}\n",
                        "        1    0.000    0.000    0.000    0.000 {built-in method utcfromtimestamp}\n",
                        "      418    0.000    0.000    0.000    0.000 {method '__enter__' of '_thread.lock' objects}\n",
                        "      418    0.000    0.000    0.000    0.000 {method '__exit__' of '_thread.RLock' objects}\n",
                        "      418    0.000    0.000    0.000    0.000 {method '__exit__' of '_thread.lock' objects}\n",
                        "      419    0.002    0.000    0.002    0.000 {method 'acquire' of '_multiprocessing.SemLock' objects}\n",
                        "      419    0.001    0.000    0.001    0.000 {method 'acquire' of '_thread.RLock' objects}\n",
                        "     3343    0.247    0.000    0.247    0.000 {method 'acquire' of '_thread.lock' objects}\n",
                        "        3    0.000    0.000    0.000    0.000 {method 'add' of 'set' objects}\n",
                        "     1671    0.000    0.000    0.000    0.000 {method 'append' of 'collections.deque' objects}\n",
                        "   112022    0.283    0.000    0.283    0.000 {method 'copy' of 'numpy.ndarray' objects}\n",
                        "        1    0.000    0.000    0.000    0.000 {method 'difference' of 'set' objects}\n",
                        "        1    0.000    0.000    0.000    0.000 {method 'disable' of '_lsprof.Profiler' objects}\n",
                        "  3752670    0.678    0.000    0.678    0.000 {method 'encode' of 'str' objects}\n",
                        "     3325    0.009    0.000    0.012    0.000 {method 'format' of 'str' objects}\n",
                        "        2    0.000    0.000    0.000    0.000 {method 'pop' of 'list' objects}\n",
                        "      419    0.001    0.000    0.001    0.000 {method 'release' of '_multiprocessing.SemLock' objects}\n",
                        "      419    0.000    0.000    0.000    0.000 {method 'release' of '_thread.RLock' objects}\n",
                        "      418    0.000    0.000    0.000    0.000 {method 'release' of '_thread.lock' objects}\n",
                        "        3    0.000    0.000    0.000    0.000 {method 'remove' of 'set' objects}\n",
                        "   112022    0.476    0.000    0.476    0.000 {method 'sort' of 'numpy.ndarray' objects}\n",
                        "      416    0.002    0.000    0.002    0.000 {method 'sub' of 're.Pattern' objects}\n",
                        "      416    0.000    0.000    0.000    0.000 {method 'update' of 'dict' objects}\n",
                        "      418    0.000    0.000    0.000    0.000 {method 'write' of '_io.StringIO' objects}\n",
                        "\n",
                        "\n"
                    ]
                },
                {
                    "ename": "KeyboardInterrupt",
                    "evalue": "",
                    "output_type": "error",
                    "traceback": [
                        "\u001b[1;31m---------------------------------------------------------------------------\u001b[0m",
                        "\u001b[1;31mKeyboardInterrupt\u001b[0m                         Traceback (most recent call last)",
                        "Cell \u001b[1;32mIn [6], line 11\u001b[0m\n\u001b[0;32m      8\u001b[0m                 pbar\u001b[39m.\u001b[39mupdate(\u001b[39m1\u001b[39m)\n\u001b[0;32m     10\u001b[0m \u001b[39mimport\u001b[39;00m \u001b[39mcProfile\u001b[39;00m\n\u001b[1;32m---> 11\u001b[0m cProfile\u001b[39m.\u001b[39;49mrun(\u001b[39m\"\u001b[39;49m\u001b[39mtest()\u001b[39;49m\u001b[39m\"\u001b[39;49m)\n",
                        "File \u001b[1;32mc:\\Users\\Yanis\\AppData\\Local\\Programs\\Python\\Python311\\Lib\\cProfile.py:16\u001b[0m, in \u001b[0;36mrun\u001b[1;34m(statement, filename, sort)\u001b[0m\n\u001b[0;32m     15\u001b[0m \u001b[39mdef\u001b[39;00m \u001b[39mrun\u001b[39m(statement, filename\u001b[39m=\u001b[39m\u001b[39mNone\u001b[39;00m, sort\u001b[39m=\u001b[39m\u001b[39m-\u001b[39m\u001b[39m1\u001b[39m):\n\u001b[1;32m---> 16\u001b[0m     \u001b[39mreturn\u001b[39;00m _pyprofile\u001b[39m.\u001b[39;49m_Utils(Profile)\u001b[39m.\u001b[39;49mrun(statement, filename, sort)\n",
                        "File \u001b[1;32mc:\\Users\\Yanis\\AppData\\Local\\Programs\\Python\\Python311\\Lib\\profile.py:53\u001b[0m, in \u001b[0;36m_Utils.run\u001b[1;34m(self, statement, filename, sort)\u001b[0m\n\u001b[0;32m     51\u001b[0m prof \u001b[39m=\u001b[39m \u001b[39mself\u001b[39m\u001b[39m.\u001b[39mprofiler()\n\u001b[0;32m     52\u001b[0m \u001b[39mtry\u001b[39;00m:\n\u001b[1;32m---> 53\u001b[0m     prof\u001b[39m.\u001b[39;49mrun(statement)\n\u001b[0;32m     54\u001b[0m \u001b[39mexcept\u001b[39;00m \u001b[39mSystemExit\u001b[39;00m:\n\u001b[0;32m     55\u001b[0m     \u001b[39mpass\u001b[39;00m\n",
                        "File \u001b[1;32mc:\\Users\\Yanis\\AppData\\Local\\Programs\\Python\\Python311\\Lib\\cProfile.py:95\u001b[0m, in \u001b[0;36mProfile.run\u001b[1;34m(self, cmd)\u001b[0m\n\u001b[0;32m     93\u001b[0m \u001b[39mimport\u001b[39;00m \u001b[39m__main__\u001b[39;00m\n\u001b[0;32m     94\u001b[0m \u001b[39mdict\u001b[39m \u001b[39m=\u001b[39m __main__\u001b[39m.\u001b[39m\u001b[39m__dict__\u001b[39m\n\u001b[1;32m---> 95\u001b[0m \u001b[39mreturn\u001b[39;00m \u001b[39mself\u001b[39;49m\u001b[39m.\u001b[39;49mrunctx(cmd, \u001b[39mdict\u001b[39;49m, \u001b[39mdict\u001b[39;49m)\n",
                        "File \u001b[1;32mc:\\Users\\Yanis\\AppData\\Local\\Programs\\Python\\Python311\\Lib\\cProfile.py:100\u001b[0m, in \u001b[0;36mProfile.runctx\u001b[1;34m(self, cmd, globals, locals)\u001b[0m\n\u001b[0;32m     98\u001b[0m \u001b[39mself\u001b[39m\u001b[39m.\u001b[39menable()\n\u001b[0;32m     99\u001b[0m \u001b[39mtry\u001b[39;00m:\n\u001b[1;32m--> 100\u001b[0m     exec(cmd, \u001b[39mglobals\u001b[39;49m, \u001b[39mlocals\u001b[39;49m)\n\u001b[0;32m    101\u001b[0m \u001b[39mfinally\u001b[39;00m:\n\u001b[0;32m    102\u001b[0m     \u001b[39mself\u001b[39m\u001b[39m.\u001b[39mdisable()\n",
                        "File \u001b[1;32m<string>:1\u001b[0m\n",
                        "Cell \u001b[1;32mIn [6], line 7\u001b[0m, in \u001b[0;36mtest\u001b[1;34m()\u001b[0m\n\u001b[0;32m      5\u001b[0m k_reads \u001b[39m=\u001b[39m mapping\u001b[39m.\u001b[39mcut_read_to_kmer(reads[i][\u001b[39m0\u001b[39m],\u001b[39m20\u001b[39m)\n\u001b[0;32m      6\u001b[0m \u001b[39mfor\u001b[39;00m k_read \u001b[39min\u001b[39;00m k_reads:\n\u001b[1;32m----> 7\u001b[0m     mapping\u001b[39m.\u001b[39;49mstring_search(chromosomes[\u001b[39m0\u001b[39;49m]\u001b[39m.\u001b[39;49mbwt,k_read,chromosomes[\u001b[39m0\u001b[39;49m]\u001b[39m.\u001b[39;49mrank_mat,chromosomes[\u001b[39m0\u001b[39;49m]\u001b[39m.\u001b[39;49msuffix_table)\n\u001b[0;32m      8\u001b[0m     pbar\u001b[39m.\u001b[39mupdate(\u001b[39m1\u001b[39m)\n",
                        "File \u001b[1;32mc:\\Users\\Yanis\\OneDrive\\Bureau\\4BIM S1\\omique_2\\project\\genome_mapper\\mapping.py:83\u001b[0m, in \u001b[0;36mstring_search\u001b[1;34m(bwt, read, rank_mat, suff_t)\u001b[0m\n\u001b[0;32m     81\u001b[0m         bottom \u001b[39m=\u001b[39m get_first_occ(rank_mat, base) \u001b[39m+\u001b[39m rank_mat[base][bottom]\n\u001b[0;32m     82\u001b[0m \u001b[39mif\u001b[39;00m read \u001b[39m==\u001b[39m \u001b[39m\"\u001b[39m\u001b[39m\"\u001b[39m:\n\u001b[1;32m---> 83\u001b[0m     \u001b[39mreturn\u001b[39;00m np\u001b[39m.\u001b[39;49msort(suff_t[top : bottom \u001b[39m+\u001b[39;49m \u001b[39m1\u001b[39;49m], axis\u001b[39m=\u001b[39;49m\u001b[39m0\u001b[39;49m, kind\u001b[39m=\u001b[39;49m\u001b[39m\"\u001b[39;49m\u001b[39mmergesort\u001b[39;49m\u001b[39m\"\u001b[39;49m)\n\u001b[0;32m     84\u001b[0m \u001b[39melse\u001b[39;00m:\n\u001b[0;32m     85\u001b[0m     \u001b[39mreturn\u001b[39;00m np\u001b[39m.\u001b[39marray([\u001b[39m-\u001b[39m\u001b[39m1\u001b[39m])\n",
                        "File \u001b[1;32m<__array_function__ internals>:180\u001b[0m, in \u001b[0;36msort\u001b[1;34m(*args, **kwargs)\u001b[0m\n",
                        "File \u001b[1;32mc:\\Users\\Yanis\\AppData\\Local\\Programs\\Python\\Python311\\Lib\\site-packages\\numpy\\core\\fromnumeric.py:1004\u001b[0m, in \u001b[0;36msort\u001b[1;34m(a, axis, kind, order)\u001b[0m\n\u001b[0;32m   1002\u001b[0m \u001b[39melse\u001b[39;00m:\n\u001b[0;32m   1003\u001b[0m     a \u001b[39m=\u001b[39m asanyarray(a)\u001b[39m.\u001b[39mcopy(order\u001b[39m=\u001b[39m\u001b[39m\"\u001b[39m\u001b[39mK\u001b[39m\u001b[39m\"\u001b[39m)\n\u001b[1;32m-> 1004\u001b[0m a\u001b[39m.\u001b[39;49msort(axis\u001b[39m=\u001b[39;49maxis, kind\u001b[39m=\u001b[39;49mkind, order\u001b[39m=\u001b[39;49morder)\n\u001b[0;32m   1005\u001b[0m \u001b[39mreturn\u001b[39;00m a\n",
                        "\u001b[1;31mKeyboardInterrupt\u001b[0m: "
                    ]
                }
            ],
            "source": [
                "import mapping\n",
                "def test():\n",
                "    with tqdm(total=1500000, desc=\"Reads importation\") as pbar:\n",
                "        for i in range(1500000):\n",
                "            k_reads = mapping.cut_read_to_kmer(reads[i][0],20)\n",
                "            for k_read in k_reads:\n",
                "                mapping.string_search(chromosomes[0].bwt,k_read,chromosomes[0].rank_mat,chromosomes[0].suffix_table)\n",
                "            pbar.update(1)\n",
                "            \n",
                "import cProfile\n",
                "cProfile.run(\"test()\")"
            ]
        }
    ],
    "metadata": {
        "kernelspec": {
            "display_name": "Python 3",
            "language": "python",
            "name": "python3"
        },
        "language_info": {
            "codemirror_mode": {
                "name": "ipython",
                "version": 3
            },
            "file_extension": ".py",
            "mimetype": "text/x-python",
            "name": "python",
            "nbconvert_exporter": "python",
            "pygments_lexer": "ipython3",
            "version": "3.11.0"
        },
        "orig_nbformat": 4,
        "vscode": {
            "interpreter": {
                "hash": "94ca771b458964c1ab442b05578f90bd0a7f7c12d767f9e0d71864d7e9ccae03"
            }
        }
    },
    "nbformat": 4,
    "nbformat_minor": 2
}
