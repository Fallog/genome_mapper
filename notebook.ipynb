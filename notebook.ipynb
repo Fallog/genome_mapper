{
    "cells": [
        {
            "cell_type": "markdown",
            "metadata": {},
            "source": [
                "# Genomics Algorithmics project\n",
                "\n",
                "## Development of a mapping solution over a reference genome for sequencing datas  \n",
                "\n",
                "### Nicolas Parisot & Sergio Peignier"
            ]
        },
        {
            "attachments": {},
            "cell_type": "markdown",
            "metadata": {},
            "source": [
                "## Reading sequencing datas with *Biopython* package\n",
                "\n",
                "### Genome and inversed genome of *Plasmodium falciparum*\n",
                "\n",
                "With *Biopython*, each of the 15 *Plasmodium falciparum* chromosomes is stored in a python list under the form of a string. The python list is named **chromosomes**. Mapping operations will be realised on these chromosomes."
            ]
        },
        {
            "cell_type": "code",
            "execution_count": 1,
            "metadata": {},
            "outputs": [],
            "source": [
                "from Bio import SeqIO\n",
                "from tqdm import tqdm\n",
                "from Chromosome import Chromosome\n",
                "from dc3 import dc3\n",
                "import bwt\n",
                "import tools\n",
                "import mapping\n",
                "import importlib"
            ]
        },
        {
            "cell_type": "code",
            "execution_count": 2,
            "metadata": {},
            "outputs": [
                {
                    "name": "stderr",
                    "output_type": "stream",
                    "text": [
                        "Chromosomes importation: 100%|██████████| 30/30 [00:11<00:00,  2.64it/s]\n"
                    ]
                }
            ],
            "source": [
                "chromosomes:list[Chromosome] = []\n",
                "chromosomes_inv:list[Chromosome] = []\n",
                "\n",
                "with tqdm(total=30, desc=\"Chromosomes importation\") as pbar:\n",
                "    for i,record in enumerate(SeqIO.parse(\"SEQUENCES/P_fal_genome.fna\", format=\"fasta\")):\n",
                "        # Normal chromosomes\n",
                "        name = f\"P_fal_chromosome_{i+1}\"\n",
                "        chromo = Chromosome(name,record.seq,record.id)\n",
                "        chromosomes.append(chromo)\n",
                "        pbar.update(1)\n",
                "        \n",
                "        # Inversed chromosomes\n",
                "        name_inversed_comp = f\"P_fal_chromosome_-{i+1}\"\n",
                "        inversed_comp_seq = tools.inverse_sequence(record.seq)\n",
                "        chromo_inv = Chromosome(name_inversed_comp,inversed_comp_seq,record.id)\n",
                "        chromosomes_inv.append(chromo_inv)\n",
                "        pbar.update(1)"
            ]
        },
        {
            "cell_type": "markdown",
            "metadata": {},
            "source": [
                "Number and lengths of the chromosomes are given here:"
            ]
        },
        {
            "cell_type": "code",
            "execution_count": null,
            "metadata": {},
            "outputs": [],
            "source": [
                "print(f\"Chromosomes number: {len(chromosomes)}\")\n",
                "print(\"Chromosomes length, from 1 to 15:\")\n",
                "for i, chromo in enumerate(chromosomes):\n",
                "    i += 1\n",
                "    print(f\"Length of the chromosome {i:>2} : {len(chromo.DNA_dol):<7} pairs of bases\")\n",
                "for i, chromo in enumerate(chromosomes_inv):\n",
                "    i += 1\n",
                "    print(f\"Length of the chromosome -{i:>2} : {len(chromo.DNA_dol):<7} pairs of bases\")"
            ]
        },
        {
            "attachments": {},
            "cell_type": "markdown",
            "metadata": {},
            "source": [
                "The objectives of this project is to perform a **mapping** of short DNA sequences (1500000 of 100 nucleotides long) over all the chromosomes we just imported. In other words, we need to find their localisation.\n",
                "\n",
                "Due to the length of the genome and the number of read to map, this problem can't be done with \"naive\" methods. Instead, we use a **string-search** algorithm, based on the Burrows Wheeler Transform (BWT) (Sources: https://www.molgen.mpg.de/3708260/bwt_fm.pdf). The read are mapped over the BWT of all the chromosomes. To that extend, we need to compute the BWT of very large strings which can be very time consuming. The **DC3 algorithm** allows us to compute very efficiently suffix array of strings and the we use it to compute the BWT."
            ]
        },
        {
            "cell_type": "markdown",
            "metadata": {},
            "source": [
                "_____________________"
            ]
        },
        {
            "cell_type": "markdown",
            "metadata": {},
            "source": [
                "# DC3 on genome"
            ]
        },
        {
            "attachments": {},
            "cell_type": "markdown",
            "metadata": {},
            "source": [
                "The following lines of code are used to import the suffix table computed from the DC3 algorithm\n",
                "\n",
                "To store all DC3 result, the following comands.\n",
                "Stored in .npy, one of the best way of storage for list (https://stackoverflow.com/questions/9619199/best-way-to-preserve-numpy-arrays-on-disk)"
            ]
        },
        {
            "cell_type": "code",
            "execution_count": 3,
            "metadata": {},
            "outputs": [
                {
                    "name": "stdout",
                    "output_type": "stream",
                    "text": [
                        "P_fal_chromosome_1\n",
                        "P_fal_chromosome_2\n",
                        "P_fal_chromosome_3\n",
                        "P_fal_chromosome_4\n",
                        "P_fal_chromosome_5\n",
                        "P_fal_chromosome_6\n",
                        "P_fal_chromosome_7\n",
                        "P_fal_chromosome_8\n",
                        "P_fal_chromosome_9\n",
                        "P_fal_chromosome_10\n",
                        "P_fal_chromosome_11\n",
                        "P_fal_chromosome_12\n",
                        "P_fal_chromosome_13\n",
                        "P_fal_chromosome_14\n",
                        "P_fal_chromosome_15\n",
                        "P_fal_chromosome_-1\n",
                        "P_fal_chromosome_-2\n",
                        "P_fal_chromosome_-3\n",
                        "P_fal_chromosome_-4\n",
                        "P_fal_chromosome_-5\n",
                        "P_fal_chromosome_-6\n",
                        "P_fal_chromosome_-7\n",
                        "P_fal_chromosome_-8\n",
                        "P_fal_chromosome_-9\n",
                        "P_fal_chromosome_-10\n",
                        "P_fal_chromosome_-11\n",
                        "P_fal_chromosome_-12\n",
                        "P_fal_chromosome_-13\n",
                        "P_fal_chromosome_-14\n",
                        "P_fal_chromosome_-15\n"
                    ]
                }
            ],
            "source": [
                "for chromo in chromosomes+chromosomes_inv:\n",
                "    print(chromo.file_name)\n",
                "    if chromo.suffix_table is None:\n",
                "        dc3result = dc3(chromo.DNA_dol)\n",
                "        chromo.export_dc3_result(dc3result)"
            ]
        },
        {
            "attachments": {},
            "cell_type": "markdown",
            "metadata": {},
            "source": [
                "This chunk creates (or imports) the BWT transform of every chromosomes"
            ]
        },
        {
            "cell_type": "code",
            "execution_count": null,
            "metadata": {},
            "outputs": [],
            "source": [
                "for chromo in chromosomes+chromosomes_inv:\n",
                "    print(chromo.file_name)\n",
                "    if chromo.bwt is None:\n",
                "        bwt_result = bwt.bwt(str(chromo.DNA_dol),chromo.suffix_table)\n",
                "        bwt_result = bwt_result.replace(\"$\", \"\")\n",
                "        chromo.export_bwt_result(bwt_result)\n"
            ]
        },
        {
            "attachments": {},
            "cell_type": "markdown",
            "metadata": {},
            "source": [
                "Next we compute or import the rank matrix of each chromosome. Rank matrices are large python dictionnaries storing for a chromosome, the rank array of each of its four nucleotides \"A\", \"C\", \"G\", \"T\" and for the end of string character \"$\".<p>\n",
                "Rank matrices are very useful for our *string_search* function in the mapping module. They allow us to localise substrings with $O(1)$ complexity (again the source: https://www.molgen.mpg.de/3708260/bwt_fm.pdf)."
            ]
        },
        {
            "cell_type": "code",
            "execution_count": null,
            "metadata": {},
            "outputs": [],
            "source": [
                "for chromo in chromosomes+chromosomes_inv:\n",
                "    print(chromo.file_name)\n",
                "    if chromo.rank_mat is None:\n",
                "        print(len(chromo.bwt))\n",
                "        rank_mat = bwt.create_rank_mat(chromo.bwt)\n",
                "        print(\"Done !\")\n",
                "        chromo.export_rank_matrix_result(rank_mat) \n",
                "        print(\"Exported !\")"
            ]
        },
        {
            "attachments": {},
            "cell_type": "markdown",
            "metadata": {},
            "source": [
                "## Now we calcule all read"
            ]
        },
        {
            "attachments": {},
            "cell_type": "markdown",
            "metadata": {},
            "source": [
                "### *Reads* acquired from a *P.falciparum* genome sequencing \n",
                "In the same way, *reads* are extracted with *Biopython* and stored in a  python list **reads**. All the *reads* have the same length: 100 pairs of bases"
            ]
        },
        {
            "cell_type": "code",
            "execution_count": 3,
            "metadata": {},
            "outputs": [
                {
                    "name": "stderr",
                    "output_type": "stream",
                    "text": [
                        "1500000it [00:24, 60066.48it/s]██▉| 1499474/1500000 [00:24<00:00, 70582.19it/s]\n",
                        "Reads importation: 100%|██████████| 1500000/1500000 [00:24<00:00, 60056.91it/s]\n"
                    ]
                }
            ],
            "source": [
                "reads = []\n",
                "with tqdm(total=1500000, desc=\"Reads importation\") as pbar:\n",
                "    for record in tqdm(SeqIO.parse(\"SEQUENCES/P_fal_reads.fq\", format=\"fastq\")):\n",
                "        reads.append((record.seq, record.id))\n",
                "        pbar.update(1)"
            ]
        },
        {
            "cell_type": "code",
            "execution_count": null,
            "metadata": {},
            "outputs": [],
            "source": [
                "print(f\"Number of reads: {len(reads)}\")\n",
                "print(f\"Reads length: {len(reads[0][0])}\")"
            ]
        },
        {
            "cell_type": "code",
            "execution_count": 10,
            "metadata": {},
            "outputs": [
                {
                    "name": "stderr",
                    "output_type": "stream",
                    "text": [
                        "Reads importation: 100%|██████████| 1500000/1500000 [09:49<00:00, 2546.34it/s]"
                    ]
                },
                {
                    "name": "stdout",
                    "output_type": "stream",
                    "text": [
                        "         872425650 function calls (870925650 primitive calls) in 589.082 seconds\n",
                        "\n",
                        "   Ordered by: standard name\n",
                        "\n",
                        "   ncalls  tottime  percall  cumtime  percall filename:lineno(function)\n",
                        "        1   13.265   13.265  589.082  589.082 963714198.py:2(test)\n",
                        "  1193622    2.111    0.000   23.443    0.000 <__array_function__ internals>:177(sort)\n",
                        "        1    0.000    0.000    0.000    0.000 <frozen importlib._bootstrap>:1053(_handle_fromlist)\n",
                        "        1    0.000    0.000  589.082  589.082 <string>:1(<module>)\n",
                        "126026091   60.463    0.000   75.540    0.000 Seq.py:1683(__init__)\n",
                        "  1500000    1.038    0.000    1.445    0.000 Seq.py:406(__len__)\n",
                        "238245804  176.451    0.000  300.359    0.000 Seq.py:410(__getitem__)\n",
                        "        1    0.000    0.000    0.000    0.000 __init__.py:48(create_string_buffer)\n",
                        "        1    0.000    0.000    0.000    0.000 _monitor.py:94(report)\n",
                        "        1    0.000    0.000    0.000    0.000 _weakrefset.py:111(remove)\n",
                        "        2    0.000    0.000    0.000    0.000 _weakrefset.py:17(__init__)\n",
                        "        2    0.000    0.000    0.000    0.000 _weakrefset.py:21(__enter__)\n",
                        "        2    0.000    0.000    0.000    0.000 _weakrefset.py:27(__exit__)\n",
                        "        2    0.000    0.000    0.000    0.000 _weakrefset.py:53(_commit_removals)\n",
                        "        3    0.000    0.000    0.000    0.000 _weakrefset.py:63(__iter__)\n",
                        "        1    0.000    0.000    0.000    0.000 _weakrefset.py:86(add)\n",
                        "  1193622    0.358    0.000    0.358    0.000 fromnumeric.py:848(_sort_dispatcher)\n",
                        "  1193622    2.430    0.000   19.437    0.000 fromnumeric.py:852(sort)\n",
                        "    16568    0.075    0.000    1.153    0.000 iostream.py:209(schedule)\n",
                        "     5523    0.014    0.000    0.020    0.000 iostream.py:436(_is_master_process)\n",
                        "     5523    0.019    0.000    0.721    0.000 iostream.py:455(_schedule_flush)\n",
                        "     5523    0.061    0.000    3.632    0.001 iostream.py:470(flush)\n",
                        "     5523    0.053    0.000    0.803    0.000 iostream.py:525(write)\n",
                        "    16568    0.023    0.000    0.023    0.000 iostream.py:97(_event_pipe)\n",
                        "  1500000    4.098    0.000   16.926    0.000 mapping.py:101(<listcomp>)\n",
                        "  7500000  223.082    0.000  544.204    0.000 mapping.py:52(string_search)\n",
                        "  1500000    3.647    0.000   23.159    0.000 mapping.py:89(cut_read_to_kmer)\n",
                        "    16568    0.970    0.000    0.970    0.000 socket.py:543(send)\n",
                        "     5524    0.026    0.000    0.061    0.000 std.py:104(acquire)\n",
                        "     5524    0.023    0.000    0.039    0.000 std.py:108(release)\n",
                        "        4    0.000    0.000    0.000    0.000 std.py:112(__enter__)\n",
                        "        1    0.000    0.000    0.000    0.000 std.py:1149(__enter__)\n",
                        "        4    0.000    0.000    0.000    0.000 std.py:115(__exit__)\n",
                        "        1    0.000    0.000    0.002    0.002 std.py:1152(__exit__)\n",
                        "        1    0.000    0.000    0.000    0.000 std.py:1161(__del__)\n",
                        "     5521    0.047    0.000    0.689    0.000 std.py:1164(__str__)\n",
                        "        2    0.000    0.000    0.000    0.000 std.py:1167(_comparable)\n",
                        "        2    0.000    0.000    0.000    0.000 std.py:1171(__hash__)\n",
                        "  1500000    2.542    0.000    8.450    0.000 std.py:1212(update)\n",
                        "        2    0.000    0.000    0.002    0.001 std.py:1279(close)\n",
                        "        2    0.000    0.000    0.001    0.000 std.py:1300(fp_write)\n",
                        "        1    0.000    0.000    0.000    0.000 std.py:1315(<lambda>)\n",
                        "     5520    0.037    0.000    5.807    0.001 std.py:1339(refresh)\n",
                        "     5521    0.049    0.000    0.067    0.000 std.py:1460(format_dict)\n",
                        "     5521    0.033    0.000    5.670    0.001 std.py:1478(display)\n",
                        "     5521    0.017    0.000    0.021    0.000 std.py:155(__init__)\n",
                        "     5521    0.002    0.000    0.002    0.000 std.py:165(colour)\n",
                        "     5521    0.004    0.000    0.004    0.000 std.py:169(colour)\n",
                        "     5521    0.031    0.000    0.036    0.000 std.py:188(__format__)\n",
                        "        3    0.000    0.000    0.000    0.000 std.py:228(__init__)\n",
                        "    33115    0.086    0.000    0.086    0.000 std.py:233(__call__)\n",
                        "    11041    0.027    0.000    0.074    0.000 std.py:288(format_interval)\n",
                        "        1    0.000    0.000    0.000    0.000 std.py:329(status_printer)\n",
                        "     5521    0.032    0.000    4.507    0.001 std.py:342(fp_write)\n",
                        "     5521    0.029    0.000    4.941    0.001 std.py:348(print_status)\n",
                        "     5521    0.246    0.000    0.575    0.000 std.py:355(format_meter)\n",
                        "        1    0.000    0.000    0.000    0.000 std.py:560(__new__)\n",
                        "        1    0.000    0.000    0.000    0.000 std.py:576(_get_free_pos)\n",
                        "        1    0.000    0.000    0.000    0.000 std.py:579(<setcomp>)\n",
                        "        1    0.000    0.000    0.000    0.000 std.py:583(_decr_instances)\n",
                        "        1    0.000    0.000    0.000    0.000 std.py:657(get_lock)\n",
                        "        1    0.000    0.000    0.001    0.001 std.py:846(__init__)\n",
                        "    22091    0.030    0.000    0.047    0.000 threading.py:1095(_wait_for_tstate_lock)\n",
                        "    11046    0.007    0.000    0.007    0.000 threading.py:1138(ident)\n",
                        "    22091    0.052    0.000    0.105    0.000 threading.py:1162(is_alive)\n",
                        "     5523    0.009    0.000    0.012    0.000 threading.py:1423(current_thread)\n",
                        "     5523    0.052    0.000    0.052    0.000 threading.py:236(__init__)\n",
                        "     5523    0.008    0.000    0.010    0.000 threading.py:264(__enter__)\n",
                        "     5523    0.009    0.000    0.012    0.000 threading.py:267(__exit__)\n",
                        "     5377    0.005    0.000    0.006    0.000 threading.py:273(_release_save)\n",
                        "     5377    0.009    0.000    0.013    0.000 threading.py:276(_acquire_restore)\n",
                        "     5377    0.005    0.000    0.007    0.000 threading.py:279(_is_owned)\n",
                        "     5377    0.046    0.000    2.876    0.001 threading.py:288(wait)\n",
                        "     5523    0.019    0.000    0.103    0.000 threading.py:538(__init__)\n",
                        "    22092    0.006    0.000    0.006    0.000 threading.py:546(is_set)\n",
                        "     5523    0.074    0.000    2.972    0.001 threading.py:582(wait)\n",
                        "        3    0.000    0.000    0.000    0.000 utils.py:101(wrapper_setattr)\n",
                        "        1    0.000    0.000    0.000    0.000 utils.py:105(__init__)\n",
                        "        2    0.000    0.000    0.000    0.000 utils.py:136(disable_on_exception)\n",
                        "    11044    0.042    0.000    4.476    0.000 utils.py:143(inner)\n",
                        "        1    0.000    0.000    0.000    0.000 utils.py:162(__init__)\n",
                        "        4    0.000    0.000    0.000    0.000 utils.py:171(__eq__)\n",
                        "        1    0.000    0.000    0.000    0.000 utils.py:201(_is_utf)\n",
                        "        1    0.000    0.000    0.000    0.000 utils.py:215(_supports_unicode)\n",
                        "    11042    0.051    0.000    0.070    0.000 utils.py:222(_is_ascii)\n",
                        "        1    0.000    0.000    0.000    0.000 utils.py:231(_screen_shape_wrapper)\n",
                        "        1    0.000    0.000    0.000    0.000 utils.py:246(_screen_shape_windows)\n",
                        "     5521    0.016    0.000    0.355    0.000 utils.py:329(_text_width)\n",
                        "   432283    0.171    0.000    0.249    0.000 utils.py:330(<genexpr>)\n",
                        "     5521    0.017    0.000    0.399    0.000 utils.py:333(disp_len)\n",
                        "     5521    0.009    0.000    0.009    0.000 utils.py:57(__init__)\n",
                        "     5521    0.005    0.000    0.005    0.000 utils.py:61(__format__)\n",
                        "        1    0.000    0.000    0.000    0.000 utils.py:74(__eq__)\n",
                        "        1    0.000    0.000    0.000    0.000 utils.py:88(__getattr__)\n",
                        "        1    0.000    0.000    0.000    0.000 {built-in method __new__ of type object at 0x00007FFEE0BD9920}\n",
                        "    10900    0.045    0.000    0.045    0.000 {built-in method _thread.allocate_lock}\n",
                        "     5523    0.003    0.000    0.003    0.000 {built-in method _thread.get_ident}\n",
                        "        2    0.000    0.000    0.000    0.000 {built-in method _weakref.proxy}\n",
                        "     5523    0.003    0.000    0.003    0.000 {built-in method builtins.abs}\n",
                        "111026091   15.184    0.000   15.184    0.000 {built-in method builtins.chr}\n",
                        "    27603    0.009    0.000    0.009    0.000 {built-in method builtins.divmod}\n",
                        "        1    0.000    0.000  589.082  589.082 {built-in method builtins.exec}\n",
                        "       11    0.000    0.000    0.000    0.000 {built-in method builtins.getattr}\n",
                        "    11048    0.007    0.000    0.007    0.000 {built-in method builtins.hasattr}\n",
                        "        2    0.000    0.000    0.000    0.000 {built-in method builtins.id}\n",
                        "364288464   48.263    0.000   48.263    0.000 {built-in method builtins.isinstance}\n",
                        "3011045/1511045    1.552    0.000    2.589    0.000 {built-in method builtins.len}\n",
                        "     5521    0.006    0.000    0.006    0.000 {built-in method builtins.max}\n",
                        "        1    0.000    0.000    0.000    0.000 {built-in method builtins.min}\n",
                        "   115941    0.017    0.000    0.017    0.000 {built-in method builtins.ord}\n",
                        "     5521    0.090    0.000    0.339    0.000 {built-in method builtins.sum}\n",
                        "     5520    0.017    0.000    0.017    0.000 {built-in method now}\n",
                        "     5523    0.006    0.000    0.006    0.000 {built-in method nt.getpid}\n",
                        "  6306378   10.149    0.000   10.149    0.000 {built-in method numpy.array}\n",
                        "  1193622    0.388    0.000    0.388    0.000 {built-in method numpy.asanyarray}\n",
                        "  1193622    1.537    0.000   20.974    0.000 {built-in method numpy.core._multiarray_umath.implement_array_function}\n",
                        "        1    0.000    0.000    0.000    0.000 {built-in method sys.audit}\n",
                        "    74477    0.033    0.000    0.033    0.000 {built-in method time.time}\n",
                        "   426762    0.078    0.000    0.078    0.000 {built-in method unicodedata.east_asian_width}\n",
                        "        1    0.000    0.000    0.000    0.000 {built-in method utcfromtimestamp}\n",
                        "     5523    0.002    0.000    0.002    0.000 {method '__enter__' of '_thread.lock' objects}\n",
                        "     5523    0.003    0.000    0.003    0.000 {method '__exit__' of '_thread.RLock' objects}\n",
                        "     5523    0.002    0.000    0.002    0.000 {method '__exit__' of '_thread.lock' objects}\n",
                        "     5524    0.027    0.000    0.027    0.000 {method 'acquire' of '_multiprocessing.SemLock' objects}\n",
                        "     5524    0.008    0.000    0.008    0.000 {method 'acquire' of '_thread.RLock' objects}\n",
                        "    43599    2.813    0.000    2.813    0.000 {method 'acquire' of '_thread.lock' objects}\n",
                        "        3    0.000    0.000    0.000    0.000 {method 'add' of 'set' objects}\n",
                        "    21945    0.006    0.000    0.006    0.000 {method 'append' of 'collections.deque' objects}\n",
                        "  1193622    4.843    0.000    4.843    0.000 {method 'copy' of 'numpy.ndarray' objects}\n",
                        "        1    0.000    0.000    0.000    0.000 {method 'difference' of 'set' objects}\n",
                        "        1    0.000    0.000    0.000    0.000 {method 'disable' of '_lsprof.Profiler' objects}\n",
                        "        1    0.000    0.000    0.000    0.000 {method 'encode' of 'str' objects}\n",
                        "    44165    0.132    0.000    0.173    0.000 {method 'format' of 'str' objects}\n",
                        "        2    0.000    0.000    0.000    0.000 {method 'pop' of 'list' objects}\n",
                        "     5524    0.013    0.000    0.013    0.000 {method 'release' of '_multiprocessing.SemLock' objects}\n",
                        "     5524    0.002    0.000    0.002    0.000 {method 'release' of '_thread.RLock' objects}\n",
                        "     5377    0.002    0.000    0.002    0.000 {method 'release' of '_thread.lock' objects}\n",
                        "        3    0.000    0.000    0.000    0.000 {method 'remove' of 'set' objects}\n",
                        "  1193622   11.776    0.000   11.776    0.000 {method 'sort' of 'numpy.ndarray' objects}\n",
                        "     5521    0.027    0.000    0.027    0.000 {method 'sub' of 're.Pattern' objects}\n",
                        "     5521    0.005    0.000    0.005    0.000 {method 'update' of 'dict' objects}\n",
                        "     5523    0.004    0.000    0.004    0.000 {method 'write' of '_io.StringIO' objects}\n",
                        "\n",
                        "\n"
                    ]
                },
                {
                    "name": "stderr",
                    "output_type": "stream",
                    "text": [
                        "\n"
                    ]
                }
            ],
            "source": [
                "importlib.reload(mapping)\n",
                "def test():\n",
                "    with tqdm(total=30, desc=\"Reads importation\") as pbar:\n",
                "        for i in range(30):\n",
                "            read = reads[i][0]\n",
                "            k_reads = mapping.cut_read_to_kmer(read[i][0],20)\n",
                "            k_reads_locs = [mapping.string_search(k_read,chromosomes[0]) for k_read in k_reads]\n",
                "            mapping.link_kmer_fast(k_reads, k_reads_locs)\n",
                "            pbar.update(1)\n",
                "            \n",
                "import cProfile\n",
                "cProfile.run(\"test()\")"
            ]
        }
    ],
    "metadata": {
        "kernelspec": {
            "display_name": "Python 3",
            "language": "python",
            "name": "python3"
        },
        "language_info": {
            "codemirror_mode": {
                "name": "ipython",
                "version": 3
            },
            "file_extension": ".py",
            "mimetype": "text/x-python",
            "name": "python",
            "nbconvert_exporter": "python",
            "pygments_lexer": "ipython3",
            "version": "3.10.3"
        },
        "orig_nbformat": 4,
        "vscode": {
            "interpreter": {
                "hash": "9c6950969c84b67edea1a7d8f4ef0483805b2f2e9e6113a3880292c4ff65adf5"
            }
        }
    },
    "nbformat": 4,
    "nbformat_minor": 2
}
