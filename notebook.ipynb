{
 "cells": [
  {
   "cell_type": "markdown",
   "metadata": {},
   "source": [
    "# Genomics Algorithmics project\n",
    "\n",
    "## Development of a mapping solution over a reference genome for sequencing datas  \n",
    "\n",
    "### Nicolas Parisot & Sergio Peignier"
   ]
  },
  {
   "cell_type": "markdown",
   "metadata": {},
   "source": [
    "## Reading sequencing datas with *Biopython* package\n",
    "\n",
    "### Complete genome, chromosome by chromosome, of *Plasmodium falciparum*\n",
    "\n",
    "With *Biopython*, each of the 15 *Plasmodium falciparum* chromosomes is stored in a python list under the form of a string. The python list is named **chromosomes**. Mapping operations will be realised on these chromosomes."
   ]
  },
  {
   "cell_type": "code",
   "execution_count": 1,
   "metadata": {},
   "outputs": [],
   "source": [
    "from Bio import SeqIO\n",
    "\n",
    "chromosomes = []\n",
    "\n",
    "for record in SeqIO.parse(\"SEQUENCES/P_fal_genome.fna\", format=\"fasta\"):\n",
    "    chromosomes.append(record.seq)"
   ]
  },
  {
   "cell_type": "markdown",
   "metadata": {},
   "source": [
    "Number and lengths of the chromosomes are given here:"
   ]
  },
  {
   "cell_type": "code",
   "execution_count": 2,
   "metadata": {},
   "outputs": [
    {
     "name": "stdout",
     "output_type": "stream",
     "text": [
      "Nombre de chromosomes : 15\n",
      "Taille de chaque chromosomes, de 1 à 15 :\n",
      "Taille du chromosome  1 : 640851  paires de bases\n",
      "Taille du chromosome  2 : 947102  paires de bases\n",
      "Taille du chromosome  3 : 1067971 paires de bases\n",
      "Taille du chromosome  4 : 1200490 paires de bases\n",
      "Taille du chromosome  5 : 1343557 paires de bases\n",
      "Taille du chromosome  6 : 1418242 paires de bases\n",
      "Taille du chromosome  7 : 1445207 paires de bases\n",
      "Taille du chromosome  8 : 1472805 paires de bases\n",
      "Taille du chromosome  9 : 1541735 paires de bases\n",
      "Taille du chromosome 10 : 1687656 paires de bases\n",
      "Taille du chromosome 11 : 2038340 paires de bases\n",
      "Taille du chromosome 12 : 2271494 paires de bases\n",
      "Taille du chromosome 13 : 2925236 paires de bases\n",
      "Taille du chromosome 14 : 3291936 paires de bases\n",
      "Taille du chromosome 15 : 34250   paires de bases\n"
     ]
    }
   ],
   "source": [
    "print(f\"Chromosomes number: {len(chromosomes)}\")\n",
    "print(\"Chromosomes length, from 1 to 15:\")\n",
    "i = 1\n",
    "for chromo in chromosomes:\n",
    "    print(f\"Length of the {i: >2} chromosome: {len(chromo):<7} pairs of bases\")\n",
    "    i += 1"
   ]
  },
  {
   "cell_type": "markdown",
   "metadata": {},
   "source": [
    "### *Reads* acquired from a *P.falciparum* genome sequencing \n",
    "In the same way, *reads* are extracted with *Biopython* and stored in a  python list **reads**. All the *reads* have the same length: 100 pairs of bases"
   ]
  },
  {
   "cell_type": "code",
   "execution_count": 3,
   "metadata": {},
   "outputs": [],
   "source": [
    "reads = []\n",
    "\n",
    "for record in SeqIO.parse(\"SEQUENCES/P_fal_reads.fq\", format=\"fastq\"):\n",
    "    reads.append(record.seq)"
   ]
  },
  {
   "cell_type": "code",
   "execution_count": 4,
   "metadata": {},
   "outputs": [
    {
     "name": "stdout",
     "output_type": "stream",
     "text": [
      "Nombre total de reads : 1500000\n",
      "Taille des reads: 100\n"
     ]
    }
   ],
   "source": [
    "print(f\"Number of reads: {len(reads)}\")\n",
    "print(f\"Reads length: {len(reads[0])}\")"
   ]
  },
  {
   "cell_type": "markdown",
   "metadata": {},
   "source": [
    "As we can see, the high-throughput sequencing generated 1.5 million *reads*, each 100 nucleotides in size. To sharpen the mapping, the reads will be divided into even smaller fragments, called **kmer**. "
   ]
  },
  {
   "cell_type": "code",
   "execution_count": null,
   "metadata": {},
   "outputs": [],
   "source": []
  },
  {
   "cell_type": "markdown",
   "metadata": {},
   "source": [
    "_____________________"
   ]
  },
  {
   "cell_type": "markdown",
   "metadata": {},
   "source": [
    "# DC3 on genome"
   ]
  },
  {
   "cell_type": "markdown",
   "metadata": {},
   "source": [
    "To store all DC3 result, the following comands.\n",
    "Stored in .npy, one of the best way of storage for list (https://stackoverflow.com/questions/9619199/best-way-to-preserve-numpy-arrays-on-disk)"
   ]
  },
  {
   "cell_type": "code",
   "execution_count": 10,
   "metadata": {},
   "outputs": [],
   "source": [
    "from y_dc3 import dc3\n",
    "import File_handler\n",
    "\n",
    "for i, chr in enumerate(chromosomes):\n",
    "    name = f\"P_fal_chromosome_{i+1}\"\n",
    "    file = File_handler.File_handler(name)\n",
    "    file.export_dc3_result(list(dc3(chr))) # List(numpy) pour régler mais bon \n"
   ]
  }
 ],
 "metadata": {
  "kernelspec": {
   "display_name": "Python 3.10.6 64-bit",
   "language": "python",
   "name": "python3"
  },
  "language_info": {
   "codemirror_mode": {
    "name": "ipython",
    "version": 3
   },
   "file_extension": ".py",
   "mimetype": "text/x-python",
   "name": "python",
   "nbconvert_exporter": "python",
   "pygments_lexer": "ipython3",
   "version": "3.10.6"
  },
  "orig_nbformat": 4,
  "vscode": {
   "interpreter": {
    "hash": "916dbcbb3f70747c44a77c7bcd40155683ae19c65e1c03b4aa3499c5328201f1"
   }
  }
 },
 "nbformat": 4,
 "nbformat_minor": 2
}
